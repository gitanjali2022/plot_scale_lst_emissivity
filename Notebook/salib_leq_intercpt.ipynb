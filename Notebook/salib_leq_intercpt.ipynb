{
 "cells": [
  {
   "cell_type": "markdown",
   "metadata": {},
   "source": [
    "## Alice spring: 2016, 2017, 2018 "
   ]
  },
  {
   "cell_type": "code",
   "execution_count": 44,
   "metadata": {},
   "outputs": [],
   "source": [
    "#! pip install SALIb"
   ]
  },
  {
   "cell_type": "code",
   "execution_count": 45,
   "metadata": {},
   "outputs": [],
   "source": [
    "from SALib.sample import saltelli\n",
    "from SALib.analyze import sobol\n",
    "from SALib.test_functions import Ishigami\n",
    "import numpy as np\n"
   ]
  },
  {
   "cell_type": "code",
   "execution_count": 46,
   "metadata": {},
   "outputs": [],
   "source": [
    "### running SAlib example:"
   ]
  },
  {
   "cell_type": "code",
   "execution_count": 47,
   "metadata": {},
   "outputs": [],
   "source": [
    "from IPython.display import HTML, display\n",
    "from sympy import diff, init_printing\n",
    "import argparse\n",
    "import csv\n",
    "init_printing() \n",
    "init_printing(use_latex='mathjax')  # This causes mathjax to render all output\n",
    "from sympy.printing import StrPrinter\n",
    "StrPrinter._print_Quantity = lambda self, expr: str(expr.abbrev)    # displays short units (m instead of meter"
   ]
  },
  {
   "cell_type": "code",
   "execution_count": 48,
   "metadata": {},
   "outputs": [],
   "source": [
    "import numpy as np\n",
    "from sklearn.linear_model import LinearRegression\n",
    "from sklearn.metrics import r2_score\n",
    "from sklearn.metrics import mean_squared_error"
   ]
  },
  {
   "cell_type": "markdown",
   "metadata": {},
   "source": [
    "!pip install statsmodels"
   ]
  },
  {
   "cell_type": "code",
   "execution_count": 49,
   "metadata": {},
   "outputs": [],
   "source": [
    "from sys import stdout       # For printing progress of computations\n",
    "import numpy as np\n",
    "import pandas as pd\n",
    "import scipy as sc\n",
    "import glob\n",
    "import statsmodels.api as sm\n",
    "from io import StringIO\n",
    "import matplotlib as mpl\n",
    "import matplotlib.pyplot as plt\n",
    "from sympy import *\n",
    "from sklearn import metrics\n",
    "import calendar\n",
    "from sympy.printing.theanocode import theano_function"
   ]
  },
  {
   "cell_type": "code",
   "execution_count": 50,
   "metadata": {},
   "outputs": [],
   "source": [
    "import numpy as np\n",
    "from netCDF4 import Dataset\n",
    "import netCDF4\n",
    "import matplotlib as mpl\n",
    "import matplotlib.pyplot as plt\n",
    "import pandas as pd\n",
    "import sys\n",
    "from itertools import chain\n",
    "\n"
   ]
  },
  {
   "cell_type": "code",
   "execution_count": 51,
   "metadata": {},
   "outputs": [],
   "source": [
    "import numpy as np\n",
    "from sklearn.linear_model import LinearRegression\n",
    "from sklearn.metrics import r2_score\n",
    "from sklearn.metrics import mean_squared_error"
   ]
  },
  {
   "cell_type": "code",
   "execution_count": 52,
   "metadata": {},
   "outputs": [],
   "source": [
    "import xarray as xr\n",
    "from sympy.physics.units import convert_to\n",
    "#import matplotlib\n",
    "#from matplotlib import rc\n",
    "import numpy as np\n",
    "from pandas import Timestamp\n",
    "from essm import Eq, e\n",
    "from essm.equations import Equation\n",
    "from essm.variables import Variable\n",
    "from essm.variables.utils import generate_metadata_table\n",
    "from essm.variables.units import derive_unit, derive_baseunit, markdown, SI\n",
    "from essm.variables.units import joule, kelvin, kilogram, meter, pascal, second, watt\n",
    "\n",
    "from sympy import diff, Eq, exp, init_printing, log, solve, sqrt "
   ]
  },
  {
   "cell_type": "code",
   "execution_count": 53,
   "metadata": {},
   "outputs": [],
   "source": [
    "import glob\n",
    "from netCDF4 import Dataset\n",
    "import os"
   ]
  },
  {
   "cell_type": "code",
   "execution_count": null,
   "metadata": {},
   "outputs": [],
   "source": []
  },
  {
   "cell_type": "markdown",
   "metadata": {},
   "source": [
    "filelist = ['arr[0]', 'arr[1]', 'arr[2]']\n",
    "ncfile = xr.open_mfdataset(filelist)"
   ]
  },
  {
   "cell_type": "code",
   "execution_count": 54,
   "metadata": {},
   "outputs": [
    {
     "name": "stdout",
     "output_type": "stream",
     "text": [
      "ls: cannot access '/home/gitanjalithakur/Documents/Aerodynamic_conductance/essm/aerodynamic_conductances/jupyter/LST_epsilon/data/T': No such file or directory\r\n"
     ]
    }
   ],
   "source": [
    "!ls /home/gitanjalithakur/Documents/Aerodynamic_conductance/essm/aerodynamic_conductances/jupyter/LST_epsilon/data/T"
   ]
  },
  {
   "cell_type": "code",
   "execution_count": 55,
   "metadata": {},
   "outputs": [
    {
     "name": "stderr",
     "output_type": "stream",
     "text": [
      "/home/thakur_21505/.conda/envs/essm/lib/python3.6/site-packages/ipykernel_launcher.py:4: FutureWarning: In xarray version 0.15 the default behaviour of `open_mfdataset`\n",
      "will change. To retain the existing behavior, pass\n",
      "combine='nested'. To use future default behavior, pass\n",
      "combine='by_coords'. See\n",
      "http://xarray.pydata.org/en/stable/combining.html#combining-multi\n",
      "\n",
      "  after removing the cwd from sys.path.\n",
      "/home/thakur_21505/.conda/envs/essm/lib/python3.6/site-packages/xarray/backends/api.py:941: FutureWarning: The datasets supplied have global dimension coordinates. You may want\n",
      "to use the new `combine_by_coords` function (or the\n",
      "`combine='by_coords'` option to `open_mfdataset`) to order the datasets\n",
      "before concatenation. Alternatively, to continue concatenating based\n",
      "on the order the datasets are supplied in future, please use the new\n",
      "`combine_nested` function (or the `combine='nested'` option to\n",
      "open_mfdataset).The datasets supplied require both concatenation and merging. From\n",
      "xarray version 0.15 this will operation will require either using the\n",
      "new `combine_nested` function (or the `combine='nested'` option to\n",
      "open_mfdataset), with a nested list structure such that you can combine\n",
      "along the dimensions None. Alternatively if your datasets have global\n",
      "dimension coordinates then you can use the new `combine_by_coords`\n",
      "function.\n",
      "  from_openmfds=True,\n"
     ]
    }
   ],
   "source": [
    "path = '/home/thakur_21505/Documents/git_projects/aerodynamic_conductances/jupyter/leonardo_conference/data/AS' \n",
    "#print(path)\n",
    "    \n",
    "ncfile = xr.open_mfdataset(path +'/*.nc') #, concat_dim= 'ensemble')\n"
   ]
  },
  {
   "cell_type": "code",
   "execution_count": 56,
   "metadata": {},
   "outputs": [],
   "source": [
    "HWframe= ncfile.to_dataframe()\n"
   ]
  },
  {
   "cell_type": "code",
   "execution_count": 57,
   "metadata": {},
   "outputs": [],
   "source": [
    "HWframe.index=HWframe.index.set_names(['longitute','latitute','time'])#'latitute', 'longitute'"
   ]
  },
  {
   "cell_type": "code",
   "execution_count": 58,
   "metadata": {},
   "outputs": [],
   "source": [
    "HWframe.reset_index(inplace=True)\n",
    "HWframe.index=HWframe.time"
   ]
  },
  {
   "cell_type": "markdown",
   "metadata": {},
   "source": [
    "HWframerang = pd.date_range('1/1/2016 00:00:00', periods=len(HWframe.index), freq='30min')\n",
    "HWframe.index = HWframerang\n",
    "HWframe"
   ]
  },
  {
   "cell_type": "code",
   "execution_count": 59,
   "metadata": {},
   "outputs": [],
   "source": [
    "plt_path= '/home/thakur_21505/lst-retrival-from-fluxnet-data/latex/plots_lstpaper/'"
   ]
  },
  {
   "cell_type": "markdown",
   "metadata": {},
   "source": [
    "### prec:"
   ]
  },
  {
   "cell_type": "code",
   "execution_count": 60,
   "metadata": {},
   "outputs": [],
   "source": [
    "df_prec=HWframe[['Precip']]\n",
    "df_prec1=df_prec.resample('D').sum()\n",
    "#df_prec1"
   ]
  },
  {
   "cell_type": "markdown",
   "metadata": {},
   "source": [
    "### data in pandas series"
   ]
  },
  {
   "cell_type": "code",
   "execution_count": 61,
   "metadata": {},
   "outputs": [],
   "source": [
    "airtemp = HWframe['Ta']\n"
   ]
  },
  {
   "cell_type": "code",
   "execution_count": 62,
   "metadata": {},
   "outputs": [],
   "source": [
    "HWframe=HWframe.replace(-9999.000000, np.nan)"
   ]
  },
  {
   "cell_type": "markdown",
   "metadata": {},
   "source": [
    "## combining series:\n",
    "HWframe=pd.concat([SH2, lup2, lud2, TA2, Rn2, WS2], axis=1)\n",
    "HWframe.head()\n",
    "HWframe=HWframe.replace(-9999.000000, np.nan)\n",
    "HWframe.fh\n",
    "\n"
   ]
  },
  {
   "cell_type": "markdown",
   "metadata": {},
   "source": [
    "### Longwave balance:"
   ]
  },
  {
   "cell_type": "code",
   "execution_count": 63,
   "metadata": {},
   "outputs": [
    {
     "data": {
      "image/png": "[encoded data removed]",
      "text/plain": [
       "<Figure size 432x288 with 1 Axes>"
      ]
     },
     "metadata": {
      "needs_background": "light"
     },
     "output_type": "display_data"
    }
   ],
   "source": [
    "df=HWframe.copy()\n",
    "plt.plot(df.index,df.Flu,\"*\",color= 'blue')\n",
    "plt.plot(df.index,df.Fld, \".\",color= 'orange')\n",
    "plt.xticks(rotation=45)\n",
    "plt.xlabel('Year', ha='center',fontsize=20)\n",
    "plt.ylabel('Longwave fluxes', labelpad=10, va='center',fontsize=20)\n",
    "plt.legend(['Upwelling','Downwelling'])\n",
    "plottitle = 'Alice Spring measured longwave'\n",
    "fname = 'Alice spring longw'\n",
    "plt.title(plottitle)\n",
    "plt.grid()\n",
    "plt.savefig(plt_path+fname+'.png',facecolor='w', edgecolor='w', orientation='portrait')\n",
    "####"
   ]
  },
  {
   "cell_type": "markdown",
   "metadata": {},
   "source": [
    "## SEB correction"
   ]
  },
  {
   "cell_type": "code",
   "execution_count": 64,
   "metadata": {},
   "outputs": [],
   "source": [
    "Beta = (HWframe.Fh)/(HWframe.Fe)\n",
    "HWframe[\"beta\"] = Beta\n",
    "\n",
    "dLE=(HWframe.Fn - HWframe.Fg - (1+ HWframe.beta)*HWframe.Fe)/(1+ HWframe.beta)\n",
    "HWframe[\"dLE\"] = dLE\n",
    "HWframe[\"Fe_corr\"] = HWframe.dLE + HWframe.Fe\n",
    "HWframe[\"dH\"] = (HWframe.dLE + HWframe.Fe)* Beta - HWframe.Fh\n",
    "HWframe[\"Fh_corr\"] = HWframe.Fh + HWframe.dH\n",
    "\n",
    "#dH="
   ]
  },
  {
   "cell_type": "markdown",
   "metadata": {},
   "source": [
    "## variables :"
   ]
  },
  {
   "cell_type": "code",
   "execution_count": 65,
   "metadata": {},
   "outputs": [
    {
     "name": "stderr",
     "output_type": "stream",
     "text": [
      "/home/thakur_21505/.conda/envs/essm/lib/python3.6/site-packages/essm/variables/_core.py:89: UserWarning: \"__main__:epsilon\" will be overridden by \"__main__:<class '__main__.epsilon'>\"\n",
      "  instance[expr] = instance\n",
      "/home/thakur_21505/.conda/envs/essm/lib/python3.6/site-packages/essm/variables/_core.py:89: UserWarning: \"__main__:eps_r\" will be overridden by \"__main__:<class '__main__.eps_r'>\"\n",
      "  instance[expr] = instance\n",
      "/home/thakur_21505/.conda/envs/essm/lib/python3.6/site-packages/essm/variables/_core.py:89: UserWarning: \"__main__:eps_b\" will be overridden by \"__main__:<class '__main__.eps_b'>\"\n",
      "  instance[expr] = instance\n",
      "/home/thakur_21505/.conda/envs/essm/lib/python3.6/site-packages/essm/variables/_core.py:89: UserWarning: \"__main__:sigma\" will be overridden by \"__main__:<class '__main__.sigma'>\"\n",
      "  instance[expr] = instance\n",
      "/home/thakur_21505/.conda/envs/essm/lib/python3.6/site-packages/essm/variables/_core.py:89: UserWarning: \"__main__:T_s\" will be overridden by \"__main__:<class '__main__.T_s'>\"\n",
      "  instance[expr] = instance\n",
      "/home/thakur_21505/.conda/envs/essm/lib/python3.6/site-packages/essm/variables/_core.py:89: UserWarning: \"__main__:T_a\" will be overridden by \"__main__:<class '__main__.T_a'>\"\n",
      "  instance[expr] = instance\n",
      "/home/thakur_21505/.conda/envs/essm/lib/python3.6/site-packages/essm/variables/_core.py:89: UserWarning: \"__main__:R_lout\" will be overridden by \"__main__:<class '__main__.R_lout'>\"\n",
      "  instance[expr] = instance\n",
      "/home/thakur_21505/.conda/envs/essm/lib/python3.6/site-packages/essm/variables/_core.py:89: UserWarning: \"__main__:H\" will be overridden by \"__main__:<class '__main__.H'>\"\n",
      "  instance[expr] = instance\n",
      "/home/thakur_21505/.conda/envs/essm/lib/python3.6/site-packages/essm/variables/_core.py:89: UserWarning: \"__main__:delta_T\" will be overridden by \"__main__:<class '__main__.delta_T'>\"\n",
      "  instance[expr] = instance\n"
     ]
    }
   ],
   "source": [
    "class epsilon (Variable):\n",
    "    \"\"\"emissivity \"\"\" \n",
    "    unit = 1 \n",
    "    latex_name ='\\epsilon'\n",
    "    #default = 0.9\n",
    "class eps_r (Variable):\n",
    "    \"\"\"emissivity from \"\"\" \n",
    "    unit = 1 \n",
    "    latex_name ='\\epsilon_{r}'\n",
    "    #default = 0.9\n",
    "class eps_b (Variable):\n",
    "    \"\"\"emissivity from \"\"\" \n",
    "    unit = 1 \n",
    "    latex_name ='\\epsilon_{b}'\n",
    "    #default = 0.9\n",
    "        \n",
    "    \n",
    "    \n",
    "class sigma (Variable):\n",
    "    \"\"\" stefan-boltzmann constant\"\"\" \n",
    "    unit =  watt/(meter**2 * kelvin**4)\n",
    "    latex_name ='\\sigma'\n",
    "    default = 5.67 * 10**-8\n",
    "\n",
    "\n",
    "class T_s(Variable): \n",
    "    \"\"\"Effective surface temperature.\"\"\" \n",
    "    unit = kelvin \n",
    "    latex_name ='T_{s}'\n",
    "       \n",
    "    \n",
    "class T_a(Variable): \n",
    "    \"\"\"Air temperature\"\"\" \n",
    "    unit = kelvin \n",
    "    latex_name ='T_a'   \n",
    " \n",
    "    \n",
    "class R_lout(Variable): \n",
    "    \"\"\"upwelling longwave\"\"\" \n",
    "    unit = watt/meter**2\n",
    "    latex_name ='R_{l,out}'\n",
    "    #default = Hs.longwave_up\n",
    "    \n",
    "    \n",
    "class H(Variable): \n",
    "    \"\"\"sensible heat\"\"\" \n",
    "    unit = watt/meter**2\n",
    "    latex_name ='H'\n",
    "    \n",
    "class delta_T(Variable): \n",
    "    \"\"\"difference in surface and air temperature\"\"\" \n",
    "    unit = kelvin \n",
    "    latex_name ='\\Delta T'\n",
    "\n",
    "    "
   ]
  },
  {
   "cell_type": "code",
   "execution_count": 66,
   "metadata": {},
   "outputs": [
    {
     "name": "stderr",
     "output_type": "stream",
     "text": [
      "/home/thakur_21505/.conda/envs/essm/lib/python3.6/site-packages/essm/variables/_core.py:89: UserWarning: \"__main__:R_lin\" will be overridden by \"__main__:<class '__main__.R_lin'>\"\n",
      "  instance[expr] = instance\n",
      "/home/thakur_21505/.conda/envs/essm/lib/python3.6/site-packages/essm/equations/_core.py:107: UserWarning: \"__main__:eq_Rlout_Rlin\" will be overridden by \"__main__:<class '__main__.eq_Rlout_Rlin'>\"\n",
      "  instance[expr] = instance\n"
     ]
    },
    {
     "data": {
      "text/latex": [
       "$\\displaystyle R_{l,out} = R_{l,in} \\left(1 - \\epsilon\\right) + T_{s}^{4} \\epsilon \\sigma$"
      ],
      "text/plain": [
       "                         4    \n",
       "Rₗₒᵤₜ = Rₗᵢₙ⋅(1 - ε) + Tₛ ⋅ε⋅σ"
      ]
     },
     "execution_count": 66,
     "metadata": {},
     "output_type": "execute_result"
    }
   ],
   "source": [
    "# calculation of Ts considering both eitted and reflected radiation(Mike)\n",
    "class R_lin(Variable):\n",
    "    \"\"\"Incoming Longwave radiation\"\"\"\n",
    "    latex_name = r'R_{l,in}'\n",
    "    unit = watt/meter**2\n",
    "class eq_Rlout_Rlin(Equation):\n",
    "    \"\"\"Upwelling longwave radiation including reflected.\"\"\"\n",
    "    expr = Eq(R_lout, sigma*epsilon*T_s**4 + (1-epsilon) * R_lin)\n",
    "eq_Rlout_Rlin"
   ]
  },
  {
   "cell_type": "code",
   "execution_count": 67,
   "metadata": {},
   "outputs": [
    {
     "name": "stderr",
     "output_type": "stream",
     "text": [
      "/home/thakur_21505/.conda/envs/essm/lib/python3.6/site-packages/essm/equations/_core.py:107: UserWarning: \"__main__:eq_Ts_Rlout_Rlin\" will be overridden by \"__main__:<class '__main__.eq_Ts_Rlout_Rlin'>\"\n",
      "  instance[expr] = instance\n"
     ]
    },
    {
     "data": {
      "text/latex": [
       "$\\displaystyle T_{s} = \\sqrt[4]{\\frac{R_{l,in}}{\\sigma} - \\frac{R_{l,in}}{\\epsilon \\sigma} + \\frac{R_{l,out}}{\\epsilon \\sigma}}$"
      ],
      "text/plain": [
       "         _____________________\n",
       "        ╱ Rₗᵢₙ   Rₗᵢₙ   Rₗₒᵤₜ \n",
       "Tₛ = 4 ╱  ──── - ──── + ───── \n",
       "     ╲╱    σ     ε⋅σ     ε⋅σ  "
      ]
     },
     "execution_count": 67,
     "metadata": {},
     "output_type": "execute_result"
    }
   ],
   "source": [
    "class eq_Ts_Rlout_Rlin(eq_Rlout_Rlin.definition):\n",
    "    \"\"\"Surface temperature as a function of LWout and LWin\"\"\"\n",
    "    soln = solve(eq_Rlout_Rlin, T_s, dict=True)\n",
    "    expr = Eq(T_s, soln[3][T_s])\n",
    "eq_Ts_Rlout_Rlin"
   ]
  },
  {
   "cell_type": "code",
   "execution_count": 68,
   "metadata": {},
   "outputs": [],
   "source": [
    "HWframe[\"T_a\"] = pd.Series(HWframe.Ta + 273.15, index=HWframe.index)"
   ]
  },
  {
   "cell_type": "markdown",
   "metadata": {},
   "source": [
    "tf_Ts = theano_function([R_lin, R_lout], [eq_Ts_Rlout_Rlin.rhs.subs(Variable.__defaults__)], dims={R_lin:1, R_lout:1})\n",
    "list_Ts = tf_Ts(HWframe.Flu,HWframe.Fld)\n",
    "print(list_Ts)\n"
   ]
  },
  {
   "cell_type": "markdown",
   "metadata": {},
   "source": [
    "## surface temperature calculation: ignoring reflected / SBlaw"
   ]
  },
  {
   "cell_type": "code",
   "execution_count": 69,
   "metadata": {},
   "outputs": [
    {
     "name": "stderr",
     "output_type": "stream",
     "text": [
      "/home/thakur_21505/.conda/envs/essm/lib/python3.6/site-packages/essm/equations/_core.py:107: UserWarning: \"__main__:eq_Rlout\" will be overridden by \"__main__:<class '__main__.eq_Rlout'>\"\n",
      "  instance[expr] = instance\n"
     ]
    },
    {
     "data": {
      "text/latex": [
       "$\\displaystyle R_{l,out} = T_{s}^{4} \\epsilon \\sigma$"
      ],
      "text/plain": [
       "          4    \n",
       "Rₗₒᵤₜ = Tₛ ⋅ε⋅σ"
      ]
     },
     "execution_count": 69,
     "metadata": {},
     "output_type": "execute_result"
    }
   ],
   "source": [
    "class eq_Rlout(Equation):\n",
    "    \"\"\"Upwelling longwave radiation.\"\"\"\n",
    "    expr = Eq(R_lout, sigma*epsilon*T_s**4)\n",
    "eq_Rlout\n"
   ]
  },
  {
   "cell_type": "code",
   "execution_count": 70,
   "metadata": {},
   "outputs": [
    {
     "name": "stderr",
     "output_type": "stream",
     "text": [
      "/home/thakur_21505/.conda/envs/essm/lib/python3.6/site-packages/essm/equations/_core.py:107: UserWarning: \"__main__:eq_Ts_Rlout\" will be overridden by \"__main__:<class '__main__.eq_Ts_Rlout'>\"\n",
      "  instance[expr] = instance\n"
     ]
    },
    {
     "data": {
      "text/latex": [
       "$\\displaystyle T_{s} = \\sqrt[4]{\\frac{R_{l,out}}{\\epsilon \\sigma}}$"
      ],
      "text/plain": [
       "         _______\n",
       "        ╱ Rₗₒᵤₜ \n",
       "Tₛ = 4 ╱  ───── \n",
       "     ╲╱    ε⋅σ  "
      ]
     },
     "execution_count": 70,
     "metadata": {},
     "output_type": "execute_result"
    }
   ],
   "source": [
    "class eq_Ts_Rlout(eq_Rlout.definition):\n",
    "    \"\"\"Surface temperature as a function of LWout\"\"\"\n",
    "    soln = solve(eq_Rlout, T_s, dict=True)\n",
    "    expr = Eq(T_s, soln[3][T_s])\n",
    "eq_Ts_Rlout"
   ]
  },
  {
   "cell_type": "markdown",
   "metadata": {},
   "source": [
    "## plots:"
   ]
  },
  {
   "cell_type": "code",
   "execution_count": 71,
   "metadata": {},
   "outputs": [],
   "source": [
    "def Ts_boxplt_modeps (df_all,year):    #days,hours):\n",
    "    \"\"\"Plot a panel per month with H and delT.\"\"\"\n",
    "    #df_all = Asframe.copy()\n",
    "    con_month=[]\n",
    "    ign_month=[]\n",
    "    for i in range(12):\n",
    "        list_months = list(range(1,13))\n",
    "        df = df_all[(df_all.index.year == year) & (df_all.index.month == list_months[i]) &  (df_all.Fn > 25) & (df_all.Ws > 2) ]  \n",
    "                    #& (df_all.NETRAD > 25) & (df_all.WS > 2)]\n",
    "                    #& (df_all.index.day == days) & (df_all.index.hour== hours) & (df_all.index.minute == 0)] \n",
    "        epsilon1=0.97\n",
    "        epsilon_mod=0.97\n",
    "        \n",
    "        \n",
    "        ign_rad=[]\n",
    "        con_rad=[]\n",
    "            \n",
    "            \n",
    "        tf_T_s1 = theano_function([R_lout], [eq_Ts_Rlout.rhs.subs(epsilon, epsilon1).\n",
    "                                                          subs(Variable.__defaults__)], dims={R_lout:1})\n",
    "                                                       \n",
    "            \n",
    "        list_T_s1 = tf_T_s1(df.Flu)\n",
    "        df = df.assign(T_s1=list_T_s1)\n",
    "            #####\n",
    "        tf_T_s = theano_function([R_lin, R_lout], [eq_Ts_Rlout_Rlin.rhs.subs(epsilon, epsilon1).\n",
    "                                                          subs(Variable.__defaults__)], dims={R_lin:1, R_lout:1})\n",
    "                                                       \n",
    "        list_T_s = tf_T_s(df.Fld,df.Flu)\n",
    "        df = df.assign(T_s=list_T_s)\n",
    "        \n",
    "        ign_rad.append(df.T_s1)\n",
    "        con_rad.append(df.T_s)\n",
    "            \n",
    "            #my_con1=np.ravel(con_rad)\n",
    "            #print(len(my_con1))\n",
    "        my_con2=np.ravel(con_rad)\n",
    "        my_ign2=np.ravel(ign_rad)\n",
    "        \n",
    "            #monthsdata= pd.DataFrame(columns=[\"months\", \"Ts\"])\n",
    "        con_month.append(my_con2)\n",
    "        ign_month.append(my_ign2)\n",
    "       \n",
    "       \n",
    "    box=plt.boxplot([con_month[0],con_month[1],con_month[2],con_month[3],con_month[4],con_month[5],\n",
    "             con_month[6],con_month[7],con_month[8],con_month[9],con_month[10],con_month[11]],1,patch_artist=True,\n",
    "               positions=np.arange(0.75,12.75))\n",
    "    box1=plt.boxplot([ign_month[0],ign_month[1],ign_month[2],ign_month[3],ign_month[4],ign_month[5],\n",
    "             ign_month[6],ign_month[7],ign_month[8],ign_month[9],ign_month[10],ign_month[11]],1,patch_artist=True,\n",
    "                 positions=np.arange(1.25,13.25))\n",
    "    plt.setp(box1[\"boxes\"], facecolor='orange')\n",
    "    plt.setp(box[\"boxes\"], facecolor='blue')\n",
    "    plt.ylim(273, 335)\n",
    "    plt.xticks(np.arange(1,13), ('0','1','2','3','4','5','6','7','8','9','10','11','12'))\n",
    "    plt.ylabel('Temperature (K)', ha='center',fontsize=20)\n",
    "    plt.xlabel('Month', labelpad=10, va='center',fontsize=20)\n",
    "   \n",
    "    #plt.ylim(min(y), max(y))\n",
    "    plt.legend([box[\"boxes\"][0],box1[\"boxes\"][0]],[\"considering relected component\", \"ignoring relected component\"],loc=\"upper left\")         \n",
    "    plt.title('{0},$\\epsilon_mod$={1}'.format(df.index[0].date().strftime('%Y'), \n",
    "                                               str(np.round(epsilon_mod,decimals=3))))\n",
    "                                               \n",
    "                                                #str(np.round(epsilon2,decimals=3))))\n",
    "    plt.grid()\n",
    "    plt.show()\n",
    "\n",
    "   \n",
    "    "
   ]
  },
  {
   "cell_type": "markdown",
   "metadata": {},
   "source": [
    "### Ts and TS1 box plot for eps range:"
   ]
  },
  {
   "cell_type": "markdown",
   "metadata": {},
   "source": [
    "### for modis eps"
   ]
  },
  {
   "cell_type": "code",
   "execution_count": 72,
   "metadata": {},
   "outputs": [
    {
     "name": "stderr",
     "output_type": "stream",
     "text": [
      "/home/thakur_21505/.conda/envs/essm/lib/python3.6/site-packages/essm/variables/_core.py:89: UserWarning: \"__main__:epsilon_mod\" will be overridden by \"__main__:<class '__main__.epsilon_mod'>\"\n",
      "  instance[expr] = instance\n"
     ]
    }
   ],
   "source": [
    "class epsilon_mod (Variable):\n",
    "    \"\"\"emissivity \"\"\" \n",
    "    unit = 1 \n",
    "    latex_name ='\\epsilon_{modis}'\n",
    "    "
   ]
  },
  {
   "cell_type": "code",
   "execution_count": 73,
   "metadata": {},
   "outputs": [],
   "source": [
    "#generate_metadata_table([])"
   ]
  },
  {
   "cell_type": "markdown",
   "metadata": {},
   "source": [
    "## opt eps using OLS: considering reflected"
   ]
  },
  {
   "cell_type": "markdown",
   "metadata": {},
   "source": [
    "plt_path= '/home/gitanjalithakur/Documents/Aerodynamic_conductance/essm/aerodynamic_conductances/jupyter/LST_epsilon/plots/'"
   ]
  },
  {
   "cell_type": "code",
   "execution_count": 74,
   "metadata": {},
   "outputs": [],
   "source": [
    "\n",
    "def opteps_OLS_loop (years, df_all,mnth,xcol = 'DT', ycol = 'Fh', \n",
    "                     eqdigits=3, epsmin=0.7, epsmax=0.999, epsincr=-0.002):\n",
    "    opteps_As_ref = pd.DataFrame(columns=[\"year\",\"month\",\"RMSE\", \"m\",\"c\",\"eps_ref\",\"R2\"])\n",
    "    k=0\n",
    "    RMSE_check=0\n",
    "    epsilon1=np.arange(epsmax, epsmin, epsincr).tolist() # using array of the epsilon values\n",
    "    df = df_all[(df_all.index.year == years)& (df_all.index.month == mnth)  & (df_all.Fn > 25) & (df_all.Ws > 2)\n",
    "         &(df_all.Fld_QCFlag==00)&(df_all.Flu_QCFlag==00)\n",
    "                &(df_all.Ta_QCFlag==00)&(df_all.Fh_QCFlag==00)]\n",
    "    \n",
    "    for j in range(len(epsilon1)) :\n",
    "        tf_T_s = theano_function([R_lin, R_lout], [eq_Ts_Rlout_Rlin.rhs.subs(epsilon, epsilon1[j]).\n",
    "                                                          subs(Variable.__defaults__)], dims={R_lin:1, R_lout:1})\n",
    "                                                       \n",
    "        \n",
    "       \n",
    "        \n",
    "        list_T_s = tf_T_s((df.Fld),(df.Flu)) # both longwave are overestimated by 5 watt/m2\n",
    "        \n",
    "        df = df.assign(T_s=list_T_s)\n",
    "        #ycol = (df.Fh +30  )\n",
    "        list_DT = df.T_s - df.T_a\n",
    "        df = df.assign(DT=(df.T_s - df.T_a))\n",
    "        ####\n",
    "       \n",
    "        #####\n",
    "        df1 = df.dropna(subset=[xcol, ycol]) # for removing nan values\n",
    "        xdata1 = df1[xcol]\n",
    "        ydata1 = df1[ycol]\n",
    "        x=np.array(xdata1)\n",
    "        y=np.array(ydata1)\n",
    "        x=x.reshape(-1,1)\n",
    "        y=y.reshape(-1,1)  # sensible heat is overestimated by 30 watt/m2\n",
    "        reg=LinearRegression(fit_intercept=True).fit(x, y) ## 2d x\n",
    "        m=float(reg.coef_)\n",
    "        c= float(reg.intercept_)\n",
    "        y_pred = m*x + c\n",
    "        \n",
    "        N=len(y)\n",
    "        MSE= mean_squared_error(y,y_pred)\n",
    "        RMSE=float(sqrt(MSE))\n",
    "        r2=r2_score(y,y_pred)\n",
    "        if r2 > 0.5:\n",
    "            opteps_As_ref.loc[k]=[years,mnth,RMSE, m,c, epsilon1[j], r2]    \n",
    "        else:\n",
    "            opteps_As_ref.loc[k]=[years,mnth,np.nan, np.nan, np.nan, np.nan, r2]\n",
    "              \n",
    "        df_eps_refter=opteps_As_ref.copy() \n",
    "        #print(df_eps_refter.eps_ref)\n",
    "        if k > 1:   ## using RMSE criteria for terminating the loop\n",
    "            if df_eps_refter.RMSE[k]- df_eps_refter.RMSE[k-1] > 0:\n",
    "                RMSE_check=RMSE_check+1\n",
    "            else:\n",
    "                RMSE_check=0\n",
    "        k=k+1\n",
    "        if RMSE_check == 6:\n",
    "            break\n",
    "      \n",
    "    df_eps_ref=opteps_As_ref.copy()\n",
    "    #print(df_eps_refter.eps_ref)\n",
    "    plt.plot(df_eps_ref.eps_ref,df_eps_ref.RMSE)\n",
    "    df_eps_ref.sort_values(by=['RMSE'],ascending=True,inplace=True)\n",
    "    \n",
    "    return df_eps_ref.eps_ref.iloc[0],df_eps_ref.c.iloc[0]\n",
    "        "
   ]
  },
  {
   "cell_type": "code",
   "execution_count": 75,
   "metadata": {},
   "outputs": [
    {
     "data": {
      "text/latex": [
       "$\\displaystyle 84.1231803417424$"
      ],
      "text/plain": [
       "84.12318034174243"
      ]
     },
     "execution_count": 75,
     "metadata": {},
     "output_type": "execute_result"
    },
    {
     "data": {
      "image/png": "[encoded data removed]",
      "text/plain": [
       "<Figure size 432x288 with 1 Axes>"
      ]
     },
     "metadata": {
      "needs_background": "light"
     },
     "output_type": "display_data"
    }
   ],
   "source": [
    "opteps_OLS_loop (2017, HWframe,12)[1]"
   ]
  },
  {
   "cell_type": "markdown",
   "metadata": {},
   "source": [
    "### opt eps plot"
   ]
  },
  {
   "cell_type": "code",
   "execution_count": 76,
   "metadata": {},
   "outputs": [],
   "source": [
    "def opteps_OLS_months2 (years, df,mnth,epsilon1,xcol = 'DT', ycol = 'Fh', eqdigits=3,):\n",
    "    \n",
    "    df_all = HWframe.copy()\n",
    "     # using array of the epsilon values\n",
    "    df = df_all[(df_all.index.year == years)& (df_all.index.month == mnth)  & (df_all.Fn > 25) & (df_all.Ws > 2)\n",
    "        &(df_all.Fld_QCFlag==00)&(df_all.Flu_QCFlag==00)\n",
    "                &(df_all.Ta_QCFlag==00)&(df_all.Fh_QCFlag==00)]\n",
    "    \n",
    "   \n",
    "    tf_T_s = theano_function([R_lin, R_lout], [eq_Ts_Rlout_Rlin.rhs.subs(epsilon, epsilon1).\n",
    "                                                          subs(Variable.__defaults__)], dims={R_lin:1, R_lout:1})\n",
    "                                                       \n",
    "        \n",
    "        \n",
    "   \n",
    "        \n",
    "        \n",
    "    list_T_s = tf_T_s(df.Fld, df.Flu ) # both longwave are underestimated by 5 watt/m2\n",
    "   \n",
    "    df = df.assign(T_s=list_T_s)\n",
    "    #list_H = (df.Fh  30)\n",
    "    list_DT = df.T_s - df.T_a\n",
    "    df = df.assign(DT=(df.T_s - df.T_a))\n",
    "        ####\n",
    "   \n",
    "        #####\n",
    "    df1 = df.dropna(subset=[xcol, ycol])# for removing nan values\n",
    "    xdata1 = df1[xcol]\n",
    "    ydata1 = df1[ycol]\n",
    "    x=np.array(xdata1)\n",
    "    y=np.array(ydata1)\n",
    "    x=x.reshape(-1,1)\n",
    "    y=y.reshape(-1,1)  # sensible heat is overestimated by 30 watt/m2\n",
    "    reg=LinearRegression(fit_intercept=True).fit(x, y) ## 2d x\n",
    "    m=float(reg.coef_)\n",
    "    c= float(reg.intercept_)\n",
    "    y_pred = m*x+c\n",
    "    N=len(y)\n",
    "    MSE= mean_squared_error(y,y_pred)\n",
    "    RMSE=float(sqrt(MSE))\n",
    "    print(RMSE)\n",
    "    r2=r2_score(y,y_pred)\n",
    "    legendtext = 'y=m x + c \\nm={0}\\nc={1}\\n'r'R$^2$={2}''\\nRMSE={3}\\nN={4}'.format(str(np.round(m,decimals=eqdigits)),\n",
    "                                                                 str(np.round(c,decimals=eqdigits)),\n",
    "                                                                 str(np.round(r2,decimals=eqdigits)),\n",
    "                                                                 str(np.round(RMSE, decimals=eqdigits)),\n",
    "                                                                 str(np.round(N, decimals=eqdigits)))\n",
    "\n",
    "        \n",
    "        \n",
    "    plt.plot(x,y,\"+\",label='_nolegend_')#.format(list_months))\n",
    "    #plt.plot(df12.DT2,df12.fh,\".k\",label='_nolegend_')\n",
    "    plt.xlabel(r'$T_{leq} - T_{a} (K)$', ha='center',fontsize=20)\n",
    "    plt.ylabel(r'$H (W m^{-2})$', labelpad=10, va='center',fontsize=20)\n",
    "    plt.title('Alice Spring,{0}, $\\epsilon$={1}'.format(df.index[0].date().strftime('%Y/%m'), \n",
    "                                          str(np.round(epsilon1,decimals=3))))\n",
    "    plt.rc('xtick',labelsize=14)\n",
    "    plt.rc('ytick',labelsize=14)\n",
    "    plt.xticks([-5,0,5,10,15])\n",
    "    \n",
    "    plt.xlim(0, 15)\n",
    "    plt.ylim(0, 500)\n",
    "        \n",
    "    plt.plot(x,y_pred, color='red',label=legendtext)# predicted\n",
    "    plt.legend(loc=\"upper left\")\n",
    "    plt.grid()\n",
    "    plt.show()\n",
    "    print(RMSE) \n",
    "        \n",
    "    "
   ]
  },
  {
   "cell_type": "code",
   "execution_count": 77,
   "metadata": {},
   "outputs": [
    {
     "name": "stdout",
     "output_type": "stream",
     "text": [
      "52.35273949763934\n"
     ]
    },
    {
     "data": {
      "image/png": "[encoded data removed]",
      "text/plain": [
       "<Figure size 432x288 with 1 Axes>"
      ]
     },
     "metadata": {
      "needs_background": "light"
     },
     "output_type": "display_data"
    },
    {
     "name": "stdout",
     "output_type": "stream",
     "text": [
      "52.35273949763934\n"
     ]
    }
   ],
   "source": [
    "opteps_OLS_months2( 2017,HWframe,9,0.93)"
   ]
  },
  {
   "cell_type": "markdown",
   "metadata": {},
   "source": [
    "## Yearly epsilon:"
   ]
  },
  {
   "cell_type": "code",
   "execution_count": null,
   "metadata": {},
   "outputs": [
    {
     "name": "stdout",
     "output_type": "stream",
     "text": [
      "50.77767479123\n"
     ]
    },
    {
     "data": {
      "image/png": "[encoded data removed]",
      "text/plain": [
       "<Figure size 432x288 with 1 Axes>"
      ]
     },
     "metadata": {
      "needs_background": "light"
     },
     "output_type": "display_data"
    },
    {
     "name": "stdout",
     "output_type": "stream",
     "text": [
      "50.77767479123\n",
      "42.977701382367975\n"
     ]
    },
    {
     "data": {
      "image/png": "[encoded data removed]",
      "text/plain": [
       "<Figure size 432x288 with 1 Axes>"
      ]
     },
     "metadata": {
      "needs_background": "light"
     },
     "output_type": "display_data"
    },
    {
     "name": "stdout",
     "output_type": "stream",
     "text": [
      "42.977701382367975\n",
      "42.933570020713525\n"
     ]
    },
    {
     "data": {
      "image/png": "[encoded data removed]",
      "text/plain": [
       "<Figure size 432x288 with 1 Axes>"
      ]
     },
     "metadata": {
      "needs_background": "light"
     },
     "output_type": "display_data"
    },
    {
     "name": "stdout",
     "output_type": "stream",
     "text": [
      "42.933570020713525\n"
     ]
    }
   ],
   "source": [
    "yr=2017\n",
    "mnth=0\n",
    "list_opt_epsref1=[]\n",
    "c_2017=[]\n",
    "for i in range(12):\n",
    "    mnth=i+1\n",
    "    opteps_As_ref = pd.DataFrame(columns=[\"RMSE\", \"m\",\"c\",\"eps_ref\",\"R2\"])\n",
    "    opt_eps = opteps_OLS_loop(yr, HWframe,mnth)[0]\n",
    "    c=opteps_OLS_loop(yr, HWframe,mnth)[1]\n",
    "    \n",
    "    if opt_eps<1:\n",
    "        list_opt_epsref1.append(opt_eps)\n",
    "        c_2017.append(c)\n",
    "        opteps_OLS_months2(yr, HWframe,mnth,opt_eps)\n",
    "       \n",
    "    else:\n",
    "        list_opt_epsref1.append(1)\n",
    "    \n",
    "const=np.mean(list_opt_epsref1)\n",
    "plt.plot([1,2,3,4,5,6,7,8,9,10,11,12],list_opt_epsref1,color= 'orange')\n",
    "plt.axhspan(const-0.0001,const+0.0001,color='m',alpha=0.9, lw=1.2,ls='dotted')\n",
    "plt.xlabel('Month', ha='center',fontsize=20)\n",
    "plt.ylabel('Emissivity', labelpad=10, va='center',fontsize=20)\n",
    "plottitle = r'${0},Alice spring,Leq$'.format(str(np.round(yr)))\n",
    "fname = 'AS_le_{0}'.format(str(np.round(yr)))\n",
    "plt.title(plottitle)\n",
    "plt.grid()\n",
    "plt.tight_layout()\n",
    "plt.savefig(plt_path+fname+'.png',bbox_inches = 'tight',facecolor='w', edgecolor='w', orientation='portrait')\n",
    "plt.show()"
   ]
  },
  {
   "cell_type": "code",
   "execution_count": null,
   "metadata": {},
   "outputs": [],
   "source": [
    "from random import seed\n",
    "from random import sample\n",
    "from numpy.random import randint\n",
    "import random"
   ]
  },
  {
   "cell_type": "code",
   "execution_count": null,
   "metadata": {},
   "outputs": [],
   "source": [
    "c_2017"
   ]
  },
  {
   "cell_type": "markdown",
   "metadata": {},
   "source": [
    "### leq with intercept using sobol:\n",
    "after stans commenton the issue https://git.list.lu/wave/lst-retrival-from-fluxnet-data/-/issues/10"
   ]
  },
  {
   "cell_type": "code",
   "execution_count": null,
   "metadata": {},
   "outputs": [],
   "source": [
    "#np.arange(1, 0.2, -0.002)"
   ]
  },
  {
   "cell_type": "code",
   "execution_count": null,
   "metadata": {},
   "outputs": [],
   "source": [
    "## calculating optimum epsilon :\n",
    "\n",
    "def opteps_loop_salib2 (years,df_all,mnth,unc_H,unc_Fld,unc_Flu,unc_Ta,eqdigits=3,\n",
    "                       epsmin=0.4, epsmax=0.998, epsincr= -0.002):\n",
    "    opteps_As_refsalib2 = pd.DataFrame(columns=[\"RMSE\", \"m\",\"c\",\"eps_ref\",\"R2\"])\n",
    "    k=0\n",
    "    RMSE_check=0\n",
    "    epsilon1=np.arange(epsmax, epsmin, epsincr).tolist() # using array of the epsilon values\n",
    "    \n",
    "    df = df_all[(df_all.index.year == years)& (df_all.index.month == mnth)  & (df_all.Fn > 25) & (df_all.Ws > 2)\n",
    "         &(df_all.Fld_QCFlag==00)&(df_all.Flu_QCFlag==00)\n",
    "                &(df_all.Ta_QCFlag==00)&(df_all.Fh_QCFlag==00)]\n",
    "    \n",
    "    for j in range(len(epsilon1)) :\n",
    "        tf_T_s = theano_function([R_lin, R_lout], [eq_Ts_Rlout_Rlin.rhs.subs(epsilon, epsilon1[j]).\n",
    "                                                          subs(Variable.__defaults__)], dims={R_lin:1, R_lout:1}\n",
    "                                 ,on_unused_input='ignore')\n",
    "                                                       \n",
    "        \n",
    "\n",
    "        list_H=df.Fh+unc_H\n",
    "        df = df.assign(H=list_H)\n",
    "        Fld=df.Fld+unc_Fld\n",
    "        Flu=df.Flu+unc_Flu\n",
    "        list_T_s = tf_T_s(Fld,Flu)\n",
    "        \n",
    "        df = df.assign(T_s=list_T_s)\n",
    "        list_DT = df.T_s - (df.T_a+unc_Ta)\n",
    "        df = df.assign(DT=list_DT)        \n",
    "        \n",
    "        x=np.array(df.DT)\n",
    "        y=np.array(df.H)\n",
    "        x=x.reshape(-1,1)\n",
    "        y=y.reshape(-1,1) #\n",
    "        reg=LinearRegression(fit_intercept=True).fit(x, y) ## 2d x\n",
    "        m=float(reg.coef_)\n",
    "        c= float(reg.intercept_)\n",
    "        y_pred = m*x + c\n",
    "        N=len(y)\n",
    "        MSE= mean_squared_error(y,y_pred)\n",
    "        RMSE=float(sqrt(MSE))\n",
    "        r2=r2_score(y,y_pred)\n",
    "        if r2 > 0.5:\n",
    "            opteps_As_refsalib2.loc[k]=[RMSE, m,c, epsilon1[j], r2]    \n",
    "        else:\n",
    "            opteps_As_refsalib2.loc[k]=[np.nan, np.nan, np.nan, np.nan, r2]\n",
    "              \n",
    "        df_eps_refter=opteps_As_refsalib2.copy() \n",
    "        #print(df_eps_refter.eps_ref)\n",
    "        if k > 1:   ## using RMSE criteria for terminating the loop\n",
    "            if df_eps_refter.RMSE[k]- df_eps_refter.RMSE[k-1] > 0:\n",
    "                RMSE_check=RMSE_check+1\n",
    "            else:\n",
    "                RMSE_check=0\n",
    "        k=k+1\n",
    "        if RMSE_check == 6:\n",
    "            break\n",
    "      \n",
    "    df_eps_ref=opteps_As_refsalib2.copy()\n",
    "    #print(df_eps_refter.eps_ref)\n",
    "    #plt.plot(df_eps_ref.eps_ref,df_eps_ref.RMSE)\n",
    "    df_eps_ref.sort_values(by=['RMSE'],ascending=True,inplace=True)\n",
    "    \n",
    "    return df_eps_ref.eps_ref.iloc[0],df_eps_ref.c.iloc[0]\n",
    "        "
   ]
  },
  {
   "cell_type": "code",
   "execution_count": null,
   "metadata": {},
   "outputs": [],
   "source": [
    "x=opteps_loop_salib2 (2017,HWframe,8,18.8476,2.2705,-3.4423,-0.8720)[1]"
   ]
  },
  {
   "cell_type": "code",
   "execution_count": null,
   "metadata": {},
   "outputs": [],
   "source": [
    "print(x)"
   ]
  },
  {
   "cell_type": "code",
   "execution_count": null,
   "metadata": {},
   "outputs": [],
   "source": [
    "opteps_flux_error_intr= pd.DataFrame(columns=[\"year\", \"month\",\"unc_h\",\"unc_fld\",\"unc_flu\",\n",
    "                                         \"unc_ta\",\"eps\",\"intercept\"])\n",
    "sobol_index= pd.DataFrame(columns=[\"Param\", \"S1\",\"S1_conf\",\"ST\",\"ST_conf\",\n",
    "                                  \"dhS2\",\"dfldS2\",\"dfluS2\",\n",
    "                                   \"dTaS2\",\"dhS2_conf\",\"dfldS2_conf\",\"dfluS2_conf\",\"dTaS2_conf\",\"month\"])\n",
    "months=(np.arange(1,13))\n",
    "year=2017\n",
    "jj=0\n",
    "kk=0\n",
    "for k in range(0,12):\n",
    "    \n",
    "    problem = {\n",
    "           'num_vars': 4,\n",
    "           'names': ['dFh', 'dFld', 'dFlu','dTa'],\n",
    "           'bounds': [[-20,20], ## error range for H\n",
    "               [-5,5], ## error range for Rlup\n",
    "               [-5,5],\n",
    "               [-1,1]      ]\n",
    "        }\n",
    "    param_values = saltelli.sample(problem, 100, calc_second_order=True)\n",
    "    eps = np.zeros([param_values.shape[0]])\n",
    "    C=np.zeros([param_values.shape[0]])\n",
    "    for i in range(0,len(param_values)):\n",
    "        unc_H=param_values[i,0]\n",
    "        unc_Fld=param_values[i,1]\n",
    "        unc_Flu=param_values[i,2]\n",
    "        unc_Ta=param_values[i,3]\n",
    "        eps[i]=opteps_loop_salib2(2017,HWframe,months[k],unc_H,unc_Fld,unc_Flu,unc_Ta)[0]\n",
    "        C[i]=opteps_loop_salib2(2017,HWframe,months[k],unc_H,unc_Fld,unc_Flu,unc_Ta)[1]\n",
    "        \n",
    "        opteps_flux_error_intr.loc[jj]=[year,months[k],unc_H,unc_Fld,unc_Flu,unc_Ta,eps[i],C[i]]\n",
    "        jj=jj+1\n",
    "        \n",
    "\n",
    "    \n",
    "    Si = sobol.analyze(problem, eps,print_to_console=True)\n",
    "    Param=['dh','dfld', 'dflu','dta']\n",
    "    sobol_index.loc[0+(4*kk)]=[Param[0], Si['S1'][0],Si['S1_conf'][0],Si['ST'][0],Si['ST_conf'][0],np.nan,Si['S2'][0,1],\n",
    "                              Si['S2'][0,2],Si['S2'][0,3],\n",
    "                              np.nan,Si['S2_conf'][0,1],\n",
    "                              Si['S2_conf'][0,2],Si['S2_conf'][0,3],months[k]]\n",
    "    sobol_index.loc[1+(4*kk)]=[Param[1], Si['S1'][1],Si['S1_conf'][1],Si['ST'][1],Si['ST_conf'][1],np.nan,np.nan,Si['S2'][1,2],\n",
    "                               Si['S2'][1,3],\n",
    "                               np.nan,np.nan,Si['S2_conf'][1,2],Si['S2_conf'][1,3],months[k]\n",
    "                              ]\n",
    "    sobol_index.loc[2+(4*kk)]=[Param[2], Si['S1'][2],Si['S1_conf'][2],Si['ST'][2],Si['ST_conf'][2],np.nan,np.nan,np.nan,\n",
    "                               Si['S2'][2,3],\n",
    "                               np.nan,np.nan,np.nan,Si['S2_conf'][2,3],months[k]]\n",
    "    sobol_index.loc[3+(4*kk)]=[Param[3], Si['S1'][3],Si['S1_conf'][3],Si['ST'][3],Si['ST_conf'][3],np.nan,np.nan,np.nan,np.nan,\n",
    "                               np.nan,np.nan,np.nan,np.nan,months[k]]\n",
    "    kk=kk+1\n",
    "        \n",
    "                               \n"
   ]
  },
  {
   "cell_type": "markdown",
   "metadata": {},
   "source": [
    "opteps_flux_error.to_csv('/home/thakur_21505/lst-retrival-from-fluxnet-data/output/salib_AS_with_c.csv')"
   ]
  },
  {
   "cell_type": "code",
   "execution_count": null,
   "metadata": {},
   "outputs": [],
   "source": [
    "## dataframe into csv files:\n",
    "opteps_flux_error.to_csv('/home/thakur_21505/lst-retrival-from-fluxnet-data/output/salib_AS_leq_intercept.csv')"
   ]
  },
  {
   "cell_type": "code",
   "execution_count": null,
   "metadata": {},
   "outputs": [],
   "source": [
    "plt.plot(df_2017[0].c)"
   ]
  },
  {
   "cell_type": "code",
   "execution_count": null,
   "metadata": {},
   "outputs": [],
   "source": [
    "df_2017[0].c"
   ]
  },
  {
   "cell_type": "code",
   "execution_count": null,
   "metadata": {},
   "outputs": [],
   "source": [
    "plt.plot(opteps_flux_error.month,opteps_flux_error.intercept,\"*\",label='with flux perturbation')\n",
    "plt.plot(np.arange(1,13),c_2017,label='without perturbation')\n",
    "plt.xticks([1,2,3,4,5,6,7,8,9,10,11,12])\n",
    "plt.xlabel('Month', ha='center',fontsize=20)\n",
    "plt.ylabel('Intercept $(W/m^{2})$', labelpad=10, va='center',fontsize=20)\n",
    "plt.legend()\n",
    "#plottitle = r'${0},Alice spring,$'.format(str(np.round(yr)))\n",
    "fname = 'AS_inter_unc'.format(str(np.round(yr)))\n",
    "plt.title(plottitle)\n",
    "plt.grid()\n",
    "plt.tight_layout()\n",
    "plt.savefig(plt_path+fname+'.png',bbox_inches = 'tight',facecolor='w', edgecolor='w', orientation='portrait')\n",
    "plt.show()"
   ]
  },
  {
   "cell_type": "code",
   "execution_count": null,
   "metadata": {},
   "outputs": [],
   "source": [
    "#check for 8th month:\n",
    "opteps_flux_error1= pd.DataFrame(columns=[\"year\", \"month\",\"unc_h\",\"unc_fld\",\"unc_flu\",\"unc_ta\",\"eps\"])\n",
    "sobol_index= pd.DataFrame(columns=[\"Param\", \"S1\",\"S1_conf\",\"ST\",\"ST_conf\",\n",
    "                                  \"dhS2\",\"dfldS2\",\"dfluS2\",\n",
    "                                   \"dTaS2\",\"dhS2_conf\",\"dfldS2_conf\",\"dfluS2_conf\",\"dTaS2_conf\",\"month\"])\n",
    "#months=(np.arange(1,13))\n",
    "months=9\n",
    "year=2017\n",
    "jj=0\n",
    "kk=0\n",
    "for k in range(0,1):\n",
    "    \n",
    "    problem = {\n",
    "           'num_vars': 4,\n",
    "           'names': ['dFh', 'dFld', 'dFlu','dTa'],\n",
    "           'bounds': [[-20,20], ## error range for H\n",
    "               [-5,5], ## error range for Rlup\n",
    "               [-5,5],\n",
    "               [-1,1]      ]\n",
    "        }\n",
    "    param_values = saltelli.sample(problem, 100, calc_second_order=True)\n",
    "    eps = np.zeros([param_values.shape[0]])\n",
    "    for i in range(0,len(param_values)):\n",
    "        unc_H=param_values[i,0]\n",
    "        unc_Fld=param_values[i,1]\n",
    "        unc_Flu=param_values[i,2]\n",
    "        unc_Ta=param_values[i,3]\n",
    "        eps[i]=opteps_loop_salib2(2017,HWframe,months,unc_H,unc_Fld,unc_Flu,unc_Ta)[0]\n",
    "        df_unc=opteps_loop_salib2(2017,HWframe,months,unc_H,unc_Fld,unc_Flu,unc_Ta)[1]\n",
    "        \n",
    "        \n",
    "        opteps_flux_error1.loc[jj]=[year,months,unc_H,unc_Fld,unc_Flu,unc_Ta,eps[i]]\n",
    "        jj=jj+1\n",
    "        "
   ]
  },
  {
   "cell_type": "code",
   "execution_count": null,
   "metadata": {},
   "outputs": [],
   "source": []
  },
  {
   "cell_type": "code",
   "execution_count": null,
   "metadata": {},
   "outputs": [],
   "source": [
    "max(opteps_flux_error.intercept)"
   ]
  },
  {
   "cell_type": "code",
   "execution_count": null,
   "metadata": {},
   "outputs": [],
   "source": [
    "min(opteps_flux_error.intercept)"
   ]
  },
  {
   "cell_type": "code",
   "execution_count": null,
   "metadata": {},
   "outputs": [],
   "source": [
    "min(opteps_flux_error1.eps)"
   ]
  },
  {
   "cell_type": "code",
   "execution_count": null,
   "metadata": {},
   "outputs": [],
   "source": [
    "#check for 10th month:\n",
    "opteps_flux_error_10= pd.DataFrame(columns=[\"year\", \"month\",\"unc_h\",\"unc_fld\",\"unc_flu\",\"unc_ta\",\"eps\"])\n",
    "sobol_index= pd.DataFrame(columns=[\"Param\", \"S1\",\"S1_conf\",\"ST\",\"ST_conf\",\n",
    "                                  \"dhS2\",\"dfldS2\",\"dfluS2\",\n",
    "                                   \"dTaS2\",\"dhS2_conf\",\"dfldS2_conf\",\"dfluS2_conf\",\"dTaS2_conf\",\"month\"])\n",
    "#months=(np.arange(1,13))\n",
    "months=10\n",
    "year=2017\n",
    "jj=0\n",
    "kk=0\n",
    "for k in range(0,1):\n",
    "    \n",
    "    problem = {\n",
    "           'num_vars': 4,\n",
    "           'names': ['dFh', 'dFld', 'dFlu','dTa'],\n",
    "           'bounds': [[-20,20], ## error range for H\n",
    "               [-5,5], ## error range for Rlup\n",
    "               [-5,5],\n",
    "               [-1,1]      ]\n",
    "        }\n",
    "    param_values = saltelli.sample(problem, 100, calc_second_order=True)\n",
    "    eps = np.zeros([param_values.shape[0]])\n",
    "    for i in range(0,len(param_values)):\n",
    "        unc_H=param_values[i,0]\n",
    "        unc_Fld=param_values[i,1]\n",
    "        unc_Flu=param_values[i,2]\n",
    "        unc_Ta=param_values[i,3]\n",
    "        eps[i]=opteps_loop_salib2(2017,HWframe,months,unc_H,unc_Fld,unc_Flu,unc_Ta)\n",
    "        #print(eps[i])\n",
    "        \n",
    "        opteps_flux_error_10.loc[jj]=[year,months,unc_H,unc_Fld,unc_Flu,unc_Ta,eps[i]]\n",
    "        jj=jj+1\n",
    "        "
   ]
  },
  {
   "cell_type": "code",
   "execution_count": null,
   "metadata": {},
   "outputs": [],
   "source": [
    "min(opteps_flux_error_10.eps)"
   ]
  },
  {
   "cell_type": "code",
   "execution_count": null,
   "metadata": {},
   "outputs": [],
   "source": [
    "#check for 11th month:\n",
    "opteps_flux_error_11= pd.DataFrame(columns=[\"year\", \"month\",\"unc_h\",\"unc_fld\",\"unc_flu\",\"unc_ta\",\"eps\"])\n",
    "sobol_index= pd.DataFrame(columns=[\"Param\", \"S1\",\"S1_conf\",\"ST\",\"ST_conf\",\n",
    "                                  \"dhS2\",\"dfldS2\",\"dfluS2\",\n",
    "                                   \"dTaS2\",\"dhS2_conf\",\"dfldS2_conf\",\"dfluS2_conf\",\"dTaS2_conf\",\"month\"])\n",
    "#months=(np.arange(1,13))\n",
    "months=11\n",
    "year=2017\n",
    "jj=0\n",
    "kk=0\n",
    "for k in range(0,1):\n",
    "    \n",
    "    problem = {\n",
    "           'num_vars': 4,\n",
    "           'names': ['dFh', 'dFld', 'dFlu','dTa'],\n",
    "           'bounds': [[-20,20], ## error range for H\n",
    "               [-5,5], ## error range for Rlup\n",
    "               [-5,5],\n",
    "               [-1,1]      ]\n",
    "        }\n",
    "    param_values = saltelli.sample(problem, 100, calc_second_order=True)\n",
    "    eps = np.zeros([param_values.shape[0]])\n",
    "    for i in range(0,len(param_values)):\n",
    "        unc_H=param_values[i,0]\n",
    "        unc_Fld=param_values[i,1]\n",
    "        unc_Flu=param_values[i,2]\n",
    "        unc_Ta=param_values[i,3]\n",
    "        eps[i]=opteps_loop_salib2(2017,HWframe,months,unc_H,unc_Fld,unc_Flu,unc_Ta)[0]\n",
    "        df_unc_11=opteps_loop_salib2(2017,HWframe,months,unc_H,unc_Fld,unc_Flu,unc_Ta)[1]\n",
    "        #print(eps[i])\n",
    "        \n",
    "        opteps_flux_error_11.loc[jj]=[year,months,unc_H,unc_Fld,unc_Flu,unc_Ta,eps[i]]\n",
    "        jj=jj+1\n",
    "        "
   ]
  },
  {
   "cell_type": "code",
   "execution_count": null,
   "metadata": {},
   "outputs": [],
   "source": [
    "plt.plot(df_unc_11.c)"
   ]
  },
  {
   "cell_type": "code",
   "execution_count": null,
   "metadata": {},
   "outputs": [],
   "source": [
    "plot.plot(df_unc_11.)"
   ]
  },
  {
   "cell_type": "code",
   "execution_count": null,
   "metadata": {},
   "outputs": [],
   "source": [
    "opteps_flux_error_11"
   ]
  },
  {
   "cell_type": "code",
   "execution_count": null,
   "metadata": {},
   "outputs": [],
   "source": [
    "opteps_flux_error_11.eps.min()"
   ]
  },
  {
   "cell_type": "code",
   "execution_count": null,
   "metadata": {},
   "outputs": [],
   "source": [
    "min(opteps_flux_error_10.eps)"
   ]
  },
  {
   "cell_type": "code",
   "execution_count": null,
   "metadata": {},
   "outputs": [],
   "source": [
    "min(opteps_flux_error.eps)"
   ]
  },
  {
   "cell_type": "markdown",
   "metadata": {},
   "source": [
    "## without intercept"
   ]
  },
  {
   "cell_type": "code",
   "execution_count": null,
   "metadata": {},
   "outputs": [],
   "source": [
    "## yr=2017\n",
    "mnth=0\n",
    "list_opt_epsref1=[]\n",
    "for i in range(1):\n",
    "    mnth=9\n",
    "    #opteps_As_ref = pd.DataFrame(columns=[\"RMSE\", \"m\",\"c\",\"eps_ref\",\"R2\"])\n",
    "    opt_eps = opteps_OLS_loop(yr, HWframe,mnth)[0]\n",
    "    df_mnth=opteps_OLS_loop(yr, HWframe,mnth)[1]\n",
    "    print(opt_eps)\n",
    "    \n",
    "    if opt_eps<1:\n",
    "        list_opt_epsref1.append(opt_eps)\n",
    "        opteps_OLS_months2(yr, HWframe,mnth,opt_eps)\n",
    "       \n",
    "    else:\n",
    "        list_opt_epsref1.append(1)\n",
    "    \n",
    "const=np.mean(list_opt_epsref1)\n"
   ]
  },
  {
   "cell_type": "code",
   "execution_count": null,
   "metadata": {},
   "outputs": [],
   "source": [
    "df_unc.c"
   ]
  },
  {
   "cell_type": "code",
   "execution_count": null,
   "metadata": {},
   "outputs": [],
   "source": [
    "box=plt.boxplot([con_month[0],con_month[1],con_month[2],con_month[3],con_month[4],con_month[5],\n",
    "             con_month[6],con_month[7],con_month[8],con_month[9],con_month[10],con_month[11]],1,patch_artist=True,\n",
    "               positions=np.arange(0.75,12.75))\n",
    "\n",
    "\n",
    "box1=plt.boxplot([ign_month[0],ign_month[1],ign_month[2],ign_month[3],ign_month[4],ign_month[5],\n",
    "             ign_month[6],ign_month[7],ign_month[8],ign_month[9],ign_month[10],ign_month[11]],1,patch_artist=True,\n",
    "                 positions=np.arange(1.25,13.25))\n",
    "plt.setp(box1[\"boxes\"], facecolor='orange')\n",
    "plt.setp(box[\"boxes\"], facecolor='blue')\n",
    "plt.xticks(np.arange(1,13), ('0','1','2','3','4','5','6','7','8','9','10','11','12'))\n",
    "plt.ylabel('Temperature (K)', ha='center',fontsize=20)\n",
    "plt.xlabel('Month', labelpad=10, va='center',fontsize=20)\n",
    "plt.legend([box[\"boxes\"][0],box1[\"boxes\"][0]],[\"TS\", \"TS1\"],loc=\"upper left\")         \n",
    "plt.title('{0}, $\\epsilon1$={1},$\\epsilon2$={2}'.format(df.index[0].date().strftime('%Y'), \n",
    "                                               str(np.round(epsilon1,decimals=3)),\n",
    "                                                str(np.round(epsilon2,decimals=3))))\n",
    "plt.grid()\n",
    "plt.show()\n"
   ]
  },
  {
   "cell_type": "code",
   "execution_count": null,
   "metadata": {},
   "outputs": [],
   "source": [
    "box=plt.boxplot([df_mnth.c,df_unc.c],positions=np.arange(0,2))\n",
    "plt.xticks(np.arange(0,2), ('no unc','with unc'))\n",
    "plt.ylabel('Intercept $(W/m^{2})$', labelpad=10, va='center',fontsize=20)\n",
    "plt.show()\n",
    "#box1=plt.boxplot([df_unc.c])\n",
    "#plt.setp(box1[\"boxes\"], facecolor='orange')\n",
    "#plt.setp(box[\"boxes\"], facecolor='blue')\n",
    "#plt.show()"
   ]
  },
  {
   "cell_type": "code",
   "execution_count": null,
   "metadata": {},
   "outputs": [],
   "source": [
    "plt.plot(df_mnth.c,\"*\",color= 'blue')\n",
    "plt.plot(df_unc.c, \".\",color= 'orange')\n",
    "plt.xticks(rotation=45)\n",
    "#plt.xlabel('Year', ha='center',fontsize=20)\n",
    "plt.ylabel('Intercept $(W/m^{2})$', labelpad=10, va='center',fontsize=20)\n",
    "plt.legend(['no unc','with unc'])"
   ]
  },
  {
   "cell_type": "code",
   "execution_count": null,
   "metadata": {},
   "outputs": [],
   "source": [
    "#check for 5th month:\n",
    "opteps_flux_error_5= pd.DataFrame(columns=[\"year\", \"month\",\"unc_h\",\"unc_fld\",\"unc_flu\",\"unc_ta\",\"eps\"])\n",
    "sobol_index= pd.DataFrame(columns=[\"Param\", \"S1\",\"S1_conf\",\"ST\",\"ST_conf\",\n",
    "                                  \"dhS2\",\"dfldS2\",\"dfluS2\",\n",
    "                                   \"dTaS2\",\"dhS2_conf\",\"dfldS2_conf\",\"dfluS2_conf\",\"dTaS2_conf\",\"month\"])\n",
    "#months=(np.arange(1,13))\n",
    "months=5\n",
    "year=2017\n",
    "jj=0\n",
    "kk=0\n",
    "for k in range(0,1):\n",
    "    \n",
    "    problem = {\n",
    "           'num_vars': 4,\n",
    "           'names': ['dFh', 'dFld', 'dFlu','dTa'],\n",
    "           'bounds': [[-20,20], ## error range for H\n",
    "               [-5,5], ## error range for Rlup\n",
    "               [-5,5],\n",
    "               [-1,1]      ]\n",
    "        }\n",
    "    param_values = saltelli.sample(problem, 100, calc_second_order=True)\n",
    "    eps = np.zeros([param_values.shape[0]])\n",
    "    for i in range(0,len(param_values)):\n",
    "        unc_H=param_values[i,0]\n",
    "        unc_Fld=param_values[i,1]\n",
    "        unc_Flu=param_values[i,2]\n",
    "        unc_Ta=param_values[i,3]\n",
    "        eps[i]=opteps_loop_salib2(2017,HWframe,months,unc_H,unc_Fld,unc_Flu,unc_Ta)\n",
    "        #print(eps[i])\n",
    "        \n",
    "        opteps_flux_error_5.loc[jj]=[year,months,unc_H,unc_Fld,unc_Flu,unc_Ta,eps[i]]\n",
    "        jj=jj+1\n",
    "        "
   ]
  },
  {
   "cell_type": "code",
   "execution_count": null,
   "metadata": {},
   "outputs": [],
   "source": [
    "opteps_flux_error_5.eps.min()"
   ]
  },
  {
   "cell_type": "code",
   "execution_count": null,
   "metadata": {},
   "outputs": [],
   "source": [
    "x=opteps_flux_error.eps[9000:10000]\n",
    "print(max(x))\n",
    "print(min(x))"
   ]
  },
  {
   "cell_type": "code",
   "execution_count": null,
   "metadata": {},
   "outputs": [],
   "source": [
    "opteps_flux_error.eps[6000:7000]\n",
    "#x=opteps_flux_error.month[9000:10000]\n",
    "#print(min(x))\n"
   ]
  },
  {
   "cell_type": "code",
   "execution_count": null,
   "metadata": {},
   "outputs": [],
   "source": [
    "opteps_flux_error.eps[11000:12000]"
   ]
  },
  {
   "cell_type": "code",
   "execution_count": null,
   "metadata": {},
   "outputs": [],
   "source": [
    "opteps_flux_error1"
   ]
  },
  {
   "cell_type": "code",
   "execution_count": null,
   "metadata": {},
   "outputs": [],
   "source": [
    "opteps_flux_error.to_csv('/home/thakur_21505/lst-retrival-from-fluxnet-data/output/salib_AS_leq_inter.csv')"
   ]
  },
  {
   "cell_type": "markdown",
   "metadata": {},
   "source": [
    "### epsilon ucertainity for 1 year:"
   ]
  },
  {
   "cell_type": "code",
   "execution_count": null,
   "metadata": {},
   "outputs": [],
   "source": [
    "df=opteps_flux_error.copy()\n",
    "max_eps=[]\n",
    "min_eps=[]\n",
    "mean_eps=[]\n",
    "for i in np.arange(1,13):\n",
    "    df_plot=df[(df.month == i)]\n",
    "    max_eps.append(max(df_plot.eps))\n",
    "    min_eps.append(min(df_plot.eps))\n",
    "    mean_eps.append(df_plot.eps.mean())\n",
    "fig=plt.figure(figsize=(12,8))   \n",
    "plt.plot(np.arange(1,13),list_opt_epsref1, color='red')\n",
    "plt.plot(np.arange(1,13),max_eps, color='green')\n",
    "plt.plot(np.arange(1,13), min_eps, color='blue')\n",
    "plt.plot(np.arange(1,13), mean_eps,'*', color='k')\n",
    "plt.legend(['opt epsilon','maximum epsilon', 'minimum epsilon', 'mean epsilon'])\n",
    "plt.xticks(np.arange(1,13))\n",
    "plt.xlabel(r'$Months$', ha='center',fontsize=20)\n",
    "plt.ylabel(r'$\\epsilon$', ha='center',fontsize=20)\n",
    "#plt.title('$\\epsilon$={0}'.format(np.round(epsilon1,decimals=2)))\n",
    "plottitle = 'Alice spring uncertainity in emissivity using complete equation for year 2017'\n",
    "fname = 'as_salib{0}'.format(str(np.round(2017)))\n",
    "plt.title(plottitle)\n",
    "plt.grid()\n",
    "plt.tight_layout()\n",
    "plt.savefig(plt_path+fname+'.png',bbox_inches = 'tight',facecolor='w', edgecolor='w', orientation='portrait')\n",
    "plt.show()\n",
    "#plt.grid()\n",
    "\n",
    "    \n",
    "    \n"
   ]
  },
  {
   "cell_type": "code",
   "execution_count": null,
   "metadata": {},
   "outputs": [],
   "source": []
  },
  {
   "cell_type": "markdown",
   "metadata": {},
   "source": [
    "## sensivity indices:"
   ]
  },
  {
   "cell_type": "code",
   "execution_count": null,
   "metadata": {},
   "outputs": [],
   "source": [
    "import json"
   ]
  },
  {
   "cell_type": "markdown",
   "metadata": {},
   "source": [
    "### opts eps 3years:"
   ]
  },
  {
   "cell_type": "markdown",
   "metadata": {},
   "source": [
    "## opt eps: Ignoring reflected"
   ]
  },
  {
   "cell_type": "code",
   "execution_count": null,
   "metadata": {},
   "outputs": [],
   "source": [
    "opteps_As = pd.DataFrame(columns=[\"RMSE\", \"m\",\"eps\",\"R2\"])\n",
    "def opteps_OLS_loop_1 (years, df_all,mnth,xcol = 'DT1', ycol = 'Fh',\n",
    "                       epsmin=0.7, epsmax=0.999, epsincr=0.002, eqdigits=3):\n",
    "    \n",
    "    \n",
    "    k=0\n",
    "    epsilon1=np.arange(epsmin, epsmax, epsincr).tolist() # using array of the epsilon values\n",
    "    df = df_all[(df_all.index.year == years)& (df_all.index.month == mnth)  & (df_all.Fn > 25) & (df_all.Ws > 2)\n",
    "         &(df_all.Fld_QCFlag==00)&(df_all.Flu_QCFlag==00)\n",
    "                &(df_all.Ta_QCFlag==00)&(df_all.Fh_QCFlag==00)]\n",
    "    \n",
    "    for j in range(len(epsilon1)) :\n",
    "        tf_T_s1 = theano_function([R_lout], [eq_Ts_Rlout.rhs.subs(epsilon, epsilon1[j]).\n",
    "                                                          subs(Variable.__defaults__)], dims={R_lout:1})\n",
    "        \n",
    "        tf_T_s12 = theano_function([R_lout], [eq_Ts_Rlout.rhs.subs(epsilon, epsilon1[j]).\n",
    "                                                          subs(Variable.__defaults__)], dims={R_lout:1})\n",
    "        list_T_s1 = tf_T_s1(df.Flu +5)\n",
    "        df = df.assign(T_s1=list_T_s1)\n",
    "        ##########\n",
    "        #list_T_s12 = tf_T_s12(df12.Flu)\n",
    "        #df12 = df12.assign(T_s12=list_T_s12)\n",
    "       # list_H = df.Fh\n",
    "        list_DT1 = df.T_s1 - df.T_a\n",
    "        df = df.assign(DT1=(df.T_s1 - df.T_a))\n",
    "        \n",
    "        ###########\n",
    "        df1 = df.dropna(subset=[xcol, ycol])# for removing nan values\n",
    "        xdata1 = df1[xcol]\n",
    "        ydata1 = df1[ycol]\n",
    "        x=np.array(xdata1)\n",
    "        y=np.array(ydata1)\n",
    "        x=x.reshape(-1,1)\n",
    "        y=(y.reshape(-1,1)-30)\n",
    "        reg=LinearRegression(fit_intercept=False).fit(x, y) ## 2d x\n",
    "        m=float(reg.coef_)\n",
    "        y_pred = m*x\n",
    "        N=len(y)\n",
    "        MSE= mean_squared_error(y,y_pred)\n",
    "        RMSE=float(sqrt(MSE))\n",
    "        r2=r2_score(y,y_pred)\n",
    "        if r2 > 0.5:\n",
    "                 opteps_As.loc[k]=[RMSE, m, epsilon1[j], r2]\n",
    "        else:\n",
    "            opteps_As.loc[k]=[np.nan, np.nan, 1, r2]   \n",
    "            \n",
    "        k=k+1\n",
    "        \n",
    "    \n",
    "    df_eps= opteps_As.copy()\n",
    "    \n",
    "    df_eps.sort_values(by=['RMSE'],ascending=True,inplace=True)\n",
    "    \n",
    "    return df_eps.eps.iloc[0]\n",
    "        \n",
    "       "
   ]
  },
  {
   "cell_type": "code",
   "execution_count": null,
   "metadata": {},
   "outputs": [],
   "source": [
    "opteps_OLS_loop_1 (2016,HWframe,6)"
   ]
  },
  {
   "cell_type": "code",
   "execution_count": null,
   "metadata": {},
   "outputs": [],
   "source": [
    "def opteps_OLS_months (years, df_all,mnth,epsilon1,xcol = 'DT1', ycol = 'Fh' , eqdigits=3):\n",
    "    \"\"\"Plot a panel per month with H and delT.\"\"\"\n",
    "    \n",
    "    \n",
    "     # using array of the epsilon values\n",
    "    df = df_all[(df_all.index.year == years)& (df_all.index.month == mnth)&(df_all.Fn > 25) & (df_all.Ws > 2)\n",
    "         &(df_all.Fld_QCFlag==00)&(df_all.Flu_QCFlag==00)\n",
    "                &(df_all.Ta_QCFlag==00)&(df_all.Fh_QCFlag==00)]\n",
    "    \n",
    "    ####\n",
    "    df12 = df_all[(df_all.index.year == years) & (df_all.index.month == mnth) & ((df_all.Fn <25) | (df_all.Ws < 2))]\n",
    "    \n",
    "    tf_T_s1 = theano_function([R_lout], [eq_Ts_Rlout.rhs.subs(epsilon, epsilon1).\n",
    "                                                          subs(Variable.__defaults__)], dims={R_lout:1})\n",
    "        \n",
    "    tf_T_s12 = theano_function([R_lout], [eq_Ts_Rlout.rhs.subs(epsilon, epsilon1).\n",
    "                                                          subs(Variable.__defaults__)], dims={R_lout:1})\n",
    "    list_T_s1 = tf_T_s1(df.Flu+5)\n",
    "    df = df.assign(T_s1=list_T_s1)\n",
    "        ##########\n",
    "    list_T_s12 = tf_T_s12(df12.Flu)\n",
    "    df12 = df12.assign(T_s12=list_T_s12)\n",
    "    list_H = df.Fh\n",
    "    list_DT1 = df.T_s1 - df.T_a\n",
    "    df = df.assign(DT1=(df.T_s1 - df.T_a))\n",
    "    list_DT12 = df12.T_s12 - df12.T_a\n",
    "    df12 = df12.assign(DT12=(df12.T_s12 - df12.T_a))\n",
    "        ###########\n",
    "    df1 = df.dropna(subset=[xcol, ycol])# for removing nan values\n",
    "    xdata1 = df1[xcol]\n",
    "    ydata1 = df1[ycol]\n",
    "    x=np.array(xdata1)\n",
    "    y=np.array(ydata1)\n",
    "    x=x.reshape(-1,1)\n",
    "    y=(y.reshape(-1,1)-30)\n",
    "    reg=LinearRegression(fit_intercept=False).fit(x, y) ## 2d x\n",
    "    m=float(reg.coef_)\n",
    "    y_pred = m*x\n",
    "    \n",
    "    N=len(y)\n",
    "    MSE= mean_squared_error(y,y_pred)\n",
    "    RMSE=float(sqrt(MSE))\n",
    "    print(RMSE)\n",
    "    r2=r2_score(y,y_pred)\n",
    "    legendtext = 'y=m x \\nm={0}\\n'r'R$^2$={1}''\\nRMSE={2}\\nN={3}'.format(str(np.round(m,decimals=eqdigits)),\n",
    "                                                                 str(np.round(r2,decimals=eqdigits)),\n",
    "                                                                 str(np.round(RMSE, decimals=eqdigits)),\n",
    "                                                                 str(np.round(N, decimals=eqdigits)))\n",
    "\n",
    "        \n",
    "       \n",
    "    plt.plot(x,y,\"+\",label='_nolegend_')#.format(list_months))#.format(list_months))\n",
    "    \n",
    "    plt.xlabel(r'$T_{seq} - T_{a} (K)$', ha='center',fontsize=20)\n",
    "    plt.ylabel(r'$H(W m^{-2})$', labelpad=10, va='center',fontsize=20)\n",
    "    plt.title('Alice Spring,{0}, $\\epsilon$={1}'.format(df.index[0].date().strftime('%Y/%m'), \n",
    "                                          str(np.round(epsilon1,decimals=3))))\n",
    "        \n",
    "    \n",
    "        \n",
    "    plt.xticks([-5,0,5,10,15])\n",
    "    plt.xlim(0, 15)\n",
    "    plt.ylim(0, 500)\n",
    "    plt.plot(x,y_pred, color='red',label=legendtext)# predicted\n",
    "    plt.legend(loc=\"upper left\")\n",
    "    plt.grid()\n",
    "    plt.show()\n",
    "        \n",
    "        "
   ]
  },
  {
   "cell_type": "code",
   "execution_count": null,
   "metadata": {},
   "outputs": [],
   "source": [
    "opteps_OLS_months( 2016,HWframe,6,0.970)"
   ]
  },
  {
   "cell_type": "code",
   "execution_count": null,
   "metadata": {},
   "outputs": [],
   "source": [
    "opteps_OLS_months( 2016,HWframe,6,0.974)"
   ]
  },
  {
   "cell_type": "code",
   "execution_count": null,
   "metadata": {},
   "outputs": [],
   "source": [
    "yr=2016\n",
    "mnth=0\n",
    "list_opt_epsign=[]\n",
    "for i in range(12):\n",
    "    #opt_eps_RMSE_brook = pd.DataFrame(columns=[\"RMSE\", \"m\",\"eps\",\"R2\"])\n",
    "    mnth=i+1\n",
    "    opteps_As = pd.DataFrame(columns=[\"RMSE\", \"m\",\"eps\",\"R2\"])\n",
    "    opt_eps=  opteps_OLS_loop_1(yr, HWframe,mnth)\n",
    "    \n",
    "    if opt_eps<1:\n",
    "        list_opt_epsign.append(opt_eps)\n",
    "        opteps_OLS_months(yr, HWframe,mnth,opt_eps)\n",
    "       \n",
    "    else:\n",
    "        list_opt_epsign.append(1)\n",
    "    \n",
    "const=np.mean(list_opt_epsign)\n",
    "plt.plot([1,2,3,4,5,6,7,8,9,10,11,12],list_opt_epsign,color= 'orange')\n",
    "plt.axhspan(const-0.0001,const+0.0001,color='m',alpha=0.9, lw=1.2,ls='dotted')\n",
    "plt.text(8,0.975, \"avg eps =\" + str(np.round(const,decimals=eqdigits)))    \n",
    "\n",
    "plt.xlabel('Month', ha='center',fontsize=20)\n",
    "plt.ylabel('Emissivity', labelpad=10, va='center',fontsize=20)\n",
    "plottitle = r'${0},Alice spring,Seq$(H-30,LW+5)'.format(str(np.round(yr)))\n",
    "fname = 'AS_se_{0}'.format(str(np.round(yr)))\n",
    "plt.title(plottitle)\n",
    "plt.grid()\n",
    "plt.tight_layout()\n",
    "plt.savefig(plt_path+fname+'.png',facecolor='w', edgecolor='w', orientation='portrait')\n",
    "plt.show()"
   ]
  },
  {
   "cell_type": "code",
   "execution_count": null,
   "metadata": {},
   "outputs": [],
   "source": [
    "yr=2017\n",
    "mnth=0\n",
    "list_opt_epsign1=[]\n",
    "for i in range(12):\n",
    "    #opt_eps_RMSE_brook = pd.DataFrame(columns=[\"RMSE\", \"m\",\"eps\",\"R2\"])\n",
    "    mnth=i+1\n",
    "    opteps_As = pd.DataFrame(columns=[\"RMSE\", \"m\",\"eps\",\"R2\"])\n",
    "    opt_eps=  opteps_OLS_loop_1(yr, HWframe,mnth)\n",
    "    \n",
    "    if opt_eps<1:\n",
    "        list_opt_epsign1.append(opt_eps)\n",
    "        opteps_OLS_months(yr, HWframe,mnth,opt_eps)\n",
    "       \n",
    "    else:\n",
    "        list_opt_epsign1.append(1)\n",
    "    \n",
    "const=np.mean(list_opt_epsign1)\n",
    "plt.plot([1,2,3,4,5,6,7,8,9,10,11,12],list_opt_epsign1,color= 'orange')\n",
    "plt.axhspan(const-0.0001,const+0.0001,color='m',alpha=0.9, lw=1.2,ls='dotted')\n",
    "plt.text(8,0.975, \"avg eps =\" + str(np.round(const,decimals=eqdigits)))    \n",
    "\n",
    "plt.xlabel('Month', ha='center',fontsize=20)\n",
    "plt.ylabel('Emissivity', labelpad=10, va='center',fontsize=20)\n",
    "plottitle = r'${0},Alice spring,Seq$,(H-30,LW+5)'.format(str(np.round(yr)))\n",
    "fname = 'AS_se_{0}'.format(str(np.round(yr)))\n",
    "plt.title(plottitle)\n",
    "plt.grid()\n",
    "plt.tight_layout()\n",
    "plt.savefig(plt_path+fname+'.png',facecolor='w', edgecolor='w', orientation='portrait')\n",
    "plt.show()"
   ]
  },
  {
   "cell_type": "code",
   "execution_count": null,
   "metadata": {},
   "outputs": [],
   "source": [
    "yr=2018\n",
    "mnth=0\n",
    "list_opt_epsign2=[]\n",
    "for i in range(12):\n",
    "    #opt_eps_RMSE_brook = pd.DataFrame(columns=[\"RMSE\", \"m\",\"eps\",\"R2\"])\n",
    "    mnth=i+1\n",
    "    opteps_As = pd.DataFrame(columns=[\"RMSE\", \"m\",\"eps\",\"R2\"])\n",
    "    opt_eps=  opteps_OLS_loop_1(yr, HWframe,mnth)\n",
    "    \n",
    "    if opt_eps<1:\n",
    "        list_opt_epsign2.append(opt_eps)\n",
    "        opteps_OLS_months(yr, HWframe,mnth,opt_eps)\n",
    "       \n",
    "    else:\n",
    "        list_opt_epsign2.append(1)\n",
    "    \n",
    "const=np.mean(list_opt_epsign2)\n",
    "plt.plot([1,2,3,4,5,6,7,8,9,10,11,12],list_opt_epsign2,color= 'orange')\n",
    "plt.axhspan(const-0.0001,const+0.0001,color='m',alpha=0.9, lw=1.2,ls='dotted')\n",
    "plt.text(8,0.975, \"avg eps =\" + str(np.round(const,decimals=eqdigits)))    \n",
    "\n",
    "plt.xlabel('Month', ha='center',fontsize=20)\n",
    "plt.ylabel('Emissivity', labelpad=10, va='center',fontsize=20)\n",
    "plottitle = r'${0},Alice spring,Seq(H-30,LW +5)$'.format(str(np.round(yr)))\n",
    "fname = 'AS_se_{0}'.format(str(np.round(yr)))\n",
    "plt.title(plottitle)\n",
    "plt.grid()\n",
    "plt.tight_layout()\n",
    "plt.savefig(plt_path+fname+'.png',facecolor='w', edgecolor='w', orientation='portrait')\n",
    "plt.show()"
   ]
  },
  {
   "cell_type": "code",
   "execution_count": null,
   "metadata": {},
   "outputs": [],
   "source": [
    "opteps_ign_2016=list_opt_epsign.copy()\n",
    "opteps_ign_2017=list_opt_epsign1.copy()\n",
    "opteps_ign_2018=list_opt_epsign2.copy()\n",
    "plt.plot([1,2,3,4,5,6,7,8,9,10,11,12],opteps_ign_2016,color= 'orange', label='2016')\n",
    "plt.plot([1,2,3,4,5,6,7,8,9,10,11,12],opteps_ign_2017,color= 'red',label='2017')\n",
    "plt.plot([1,2,3,4,5,6,7,8,9,10,11,12],opteps_ign_2018,color= 'blue',label='2018')\n",
    "\n",
    "plt.xlabel('Month', ha='center',fontsize=20)\n",
    "\n",
    "plt.ylabel('Emissivity', labelpad=10, va='center',fontsize=20)\n",
    "plt.legend(['2016','2017','2018'])\n",
    "plottitle = r'Alice Spring,$Seq$'\n",
    "fname = 'AS_seq_{0}'.format(str(np.round(yr)))\n",
    "plt.title(plottitle)\n",
    "plt.grid()\n",
    "plt.tight_layout()\n",
    "plt.savefig(plt_path+fname+'.png',facecolor='w', edgecolor='w', orientation='portrait')\n"
   ]
  },
  {
   "cell_type": "code",
   "execution_count": null,
   "metadata": {},
   "outputs": [],
   "source": []
  },
  {
   "cell_type": "code",
   "execution_count": null,
   "metadata": {},
   "outputs": [],
   "source": []
  },
  {
   "cell_type": "code",
   "execution_count": null,
   "metadata": {},
   "outputs": [],
   "source": []
  }
 ],
 "metadata": {
  "kernelspec": {
   "display_name": "Python 3",
   "language": "python",
   "name": "python3"
  },
  "language_info": {
   "codemirror_mode": {
    "name": "ipython",
    "version": 3
   },
   "file_extension": ".py",
   "mimetype": "text/x-python",
   "name": "python",
   "nbconvert_exporter": "python",
   "pygments_lexer": "ipython3",
   "version": "3.6.10"
  },
  "toc": {
   "base_numbering": 1,
   "nav_menu": {},
   "number_sections": true,
   "sideBar": true,
   "skip_h1_title": false,
   "title_cell": "Table of Contents",
   "title_sidebar": "Contents",
   "toc_cell": false,
   "toc_position": {},
   "toc_section_display": true,
   "toc_window_display": true
  },
  "varInspector": {
   "cols": {
    "lenName": 16,
    "lenType": 16,
    "lenVar": 40
   },
   "kernels_config": {
    "python": {
     "delete_cmd_postfix": "",
     "delete_cmd_prefix": "del ",
     "library": "var_list.py",
     "varRefreshCmd": "print(var_dic_list())"
    },
    "r": {
     "delete_cmd_postfix": ") ",
     "delete_cmd_prefix": "rm(",
     "library": "var_list.r",
     "varRefreshCmd": "cat(var_dic_list()) "
    }
   },
   "types_to_exclude": [
    "module",
    "function",
    "builtin_function_or_method",
    "instance",
    "_Feature"
   ],
   "window_display": false
  }
 },
 "nbformat": 4,
 "nbformat_minor": 2
}
