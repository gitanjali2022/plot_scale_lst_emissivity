{
 "cells": [
  {
   "cell_type": "markdown",
   "metadata": {},
   "source": [
    "## Alice spring: 2016, 2017, 2018 "
   ]
  },
  {
   "cell_type": "code",
   "execution_count": 1,
   "metadata": {},
   "outputs": [],
   "source": [
    "#! pip install SALIb"
   ]
  },
  {
   "cell_type": "code",
   "execution_count": 2,
   "metadata": {},
   "outputs": [],
   "source": [
    "from SALib.sample import saltelli\n",
    "from SALib.analyze import sobol\n",
    "from SALib.test_functions import Ishigami\n",
    "import numpy as np\n"
   ]
  },
  {
   "cell_type": "code",
   "execution_count": 3,
   "metadata": {},
   "outputs": [],
   "source": [
    "### running SAlib example:"
   ]
  },
  {
   "cell_type": "code",
   "execution_count": 4,
   "metadata": {},
   "outputs": [],
   "source": [
    "from IPython.display import HTML, display\n",
    "from sympy import diff, init_printing\n",
    "import argparse\n",
    "import csv\n",
    "init_printing() \n",
    "init_printing(use_latex='mathjax')  # This causes mathjax to render all output\n",
    "from sympy.printing import StrPrinter\n",
    "StrPrinter._print_Quantity = lambda self, expr: str(expr.abbrev)    # displays short units (m instead of meter"
   ]
  },
  {
   "cell_type": "code",
   "execution_count": 5,
   "metadata": {},
   "outputs": [],
   "source": [
    "import numpy as np\n",
    "from sklearn.linear_model import LinearRegression\n",
    "from sklearn.metrics import r2_score\n",
    "from sklearn.metrics import mean_squared_error"
   ]
  },
  {
   "cell_type": "markdown",
   "metadata": {},
   "source": [
    "!pip install statsmodels"
   ]
  },
  {
   "cell_type": "code",
   "execution_count": 6,
   "metadata": {},
   "outputs": [],
   "source": [
    "from sys import stdout       # For printing progress of computations\n",
    "import numpy as np\n",
    "import pandas as pd\n",
    "import scipy as sc\n",
    "import glob\n",
    "import statsmodels.api as sm\n",
    "from io import StringIO\n",
    "import matplotlib as mpl\n",
    "import matplotlib.pyplot as plt\n",
    "from sympy import *\n",
    "from sklearn import metrics\n",
    "import calendar\n",
    "from sympy.printing.theanocode import theano_function"
   ]
  },
  {
   "cell_type": "code",
   "execution_count": 7,
   "metadata": {},
   "outputs": [],
   "source": [
    "import numpy as np\n",
    "from netCDF4 import Dataset\n",
    "import netCDF4\n",
    "import matplotlib as mpl\n",
    "import matplotlib.pyplot as plt\n",
    "import pandas as pd\n",
    "import sys\n",
    "from itertools import chain\n",
    "\n"
   ]
  },
  {
   "cell_type": "code",
   "execution_count": 8,
   "metadata": {},
   "outputs": [],
   "source": [
    "import numpy as np\n",
    "from sklearn.linear_model import LinearRegression\n",
    "from sklearn.metrics import r2_score\n",
    "from sklearn.metrics import mean_squared_error"
   ]
  },
  {
   "cell_type": "code",
   "execution_count": 9,
   "metadata": {},
   "outputs": [],
   "source": [
    "import xarray as xr\n",
    "from sympy.physics.units import convert_to\n",
    "#import matplotlib\n",
    "#from matplotlib import rc\n",
    "import numpy as np\n",
    "from pandas import Timestamp\n",
    "from essm import Eq, e\n",
    "from essm.equations import Equation\n",
    "from essm.variables import Variable\n",
    "from essm.variables.utils import generate_metadata_table\n",
    "from essm.variables.units import derive_unit, derive_baseunit, markdown, SI\n",
    "from essm.variables.units import joule, kelvin, kilogram, meter, pascal, second, watt\n",
    "\n",
    "from sympy import diff, Eq, exp, init_printing, log, solve, sqrt "
   ]
  },
  {
   "cell_type": "code",
   "execution_count": 10,
   "metadata": {},
   "outputs": [],
   "source": [
    "import glob\n",
    "from netCDF4 import Dataset\n",
    "import os"
   ]
  },
  {
   "cell_type": "code",
   "execution_count": null,
   "metadata": {},
   "outputs": [],
   "source": []
  },
  {
   "cell_type": "markdown",
   "metadata": {},
   "source": [
    "filelist = ['arr[0]', 'arr[1]', 'arr[2]']\n",
    "ncfile = xr.open_mfdataset(filelist)"
   ]
  },
  {
   "cell_type": "code",
   "execution_count": 11,
   "metadata": {
    "scrolled": true
   },
   "outputs": [
    {
     "name": "stderr",
     "output_type": "stream",
     "text": [
      "/home/thakur_21505/.conda/envs/essm/lib/python3.6/site-packages/ipykernel_launcher.py:4: FutureWarning: In xarray version 0.15 the default behaviour of `open_mfdataset`\n",
      "will change. To retain the existing behavior, pass\n",
      "combine='nested'. To use future default behavior, pass\n",
      "combine='by_coords'. See\n",
      "http://xarray.pydata.org/en/stable/combining.html#combining-multi\n",
      "\n",
      "  after removing the cwd from sys.path.\n",
      "/home/thakur_21505/.conda/envs/essm/lib/python3.6/site-packages/xarray/backends/api.py:941: FutureWarning: The datasets supplied have global dimension coordinates. You may want\n",
      "to use the new `combine_by_coords` function (or the\n",
      "`combine='by_coords'` option to `open_mfdataset`) to order the datasets\n",
      "before concatenation. Alternatively, to continue concatenating based\n",
      "on the order the datasets are supplied in future, please use the new\n",
      "`combine_nested` function (or the `combine='nested'` option to\n",
      "open_mfdataset).The datasets supplied require both concatenation and merging. From\n",
      "xarray version 0.15 this will operation will require either using the\n",
      "new `combine_nested` function (or the `combine='nested'` option to\n",
      "open_mfdataset), with a nested list structure such that you can combine\n",
      "along the dimensions None. Alternatively if your datasets have global\n",
      "dimension coordinates then you can use the new `combine_by_coords`\n",
      "function.\n",
      "  from_openmfds=True,\n"
     ]
    }
   ],
   "source": [
    "path = '../Data/tern/AS' \n",
    "#print(path)\n",
    "    \n",
    "ncfile = xr.open_mfdataset(path +'/*.nc') #, concat_dim= 'ensemble')\n"
   ]
  },
  {
   "cell_type": "code",
   "execution_count": 12,
   "metadata": {},
   "outputs": [],
   "source": [
    "HWframe= ncfile.to_dataframe()\n",
    "HWframe.index=HWframe.index.set_names(['longitute','latitute','time'])#'latitute', 'longitute'\n",
    "HWframe.reset_index(inplace=True)\n",
    "HWframe.index=HWframe.time \n",
    "HWframe=HWframe[(HWframe.Ws_QCFlag==00)&(HWframe.Fld_QCFlag==00)&(HWframe.Flu_QCFlag==00)&(HWframe.Fh_QCFlag==00)\n",
    "               &(HWframe.Ta_QCFlag==00)]\n",
    "HWframe=HWframe.replace(-9999.000000, np.nan)\n",
    "HWframe[\"T_a\"] = pd.Series(HWframe.Ta + 273.15, index=HWframe.index)"
   ]
  },
  {
   "cell_type": "code",
   "execution_count": 13,
   "metadata": {},
   "outputs": [],
   "source": [
    "plt_path= '../Plots'"
   ]
  },
  {
   "cell_type": "markdown",
   "metadata": {},
   "source": [
    "### prec:"
   ]
  },
  {
   "cell_type": "code",
   "execution_count": 14,
   "metadata": {},
   "outputs": [],
   "source": [
    "df_prec=HWframe[['Precip']]\n",
    "df_prec1=df_prec.resample('D').sum()\n",
    "#df_prec1"
   ]
  },
  {
   "cell_type": "markdown",
   "metadata": {},
   "source": [
    "### data in pandas series"
   ]
  },
  {
   "cell_type": "code",
   "execution_count": 15,
   "metadata": {},
   "outputs": [],
   "source": [
    "airtemp = HWframe['Ta']\n"
   ]
  },
  {
   "cell_type": "code",
   "execution_count": 16,
   "metadata": {},
   "outputs": [],
   "source": [
    "HWframe=HWframe.replace(-9999.000000, np.nan)"
   ]
  },
  {
   "cell_type": "markdown",
   "metadata": {},
   "source": [
    "## SEB correction"
   ]
  },
  {
   "cell_type": "code",
   "execution_count": 17,
   "metadata": {},
   "outputs": [],
   "source": [
    "Beta = (HWframe.Fh)/(HWframe.Fe)\n",
    "HWframe[\"beta\"] = Beta\n",
    "\n",
    "dLE=(HWframe.Fn - HWframe.Fg - (1+ HWframe.beta)*HWframe.Fe)/(1+ HWframe.beta)\n",
    "HWframe[\"dLE\"] = dLE\n",
    "HWframe[\"Fe_corr\"] = HWframe.dLE + HWframe.Fe\n",
    "HWframe[\"dH\"] = (HWframe.dLE + HWframe.Fe)* Beta - HWframe.Fh\n",
    "HWframe[\"Fh_corr\"] = HWframe.Fh + HWframe.dH\n",
    "\n",
    "#dH="
   ]
  },
  {
   "cell_type": "markdown",
   "metadata": {},
   "source": [
    "## variables :"
   ]
  },
  {
   "cell_type": "code",
   "execution_count": 18,
   "metadata": {},
   "outputs": [],
   "source": [
    "class epsilon (Variable):\n",
    "    \"\"\"emissivity \"\"\" \n",
    "    unit = 1 \n",
    "    latex_name ='\\epsilon'\n",
    "    #default = 0.9\n",
    "class eps_r (Variable):\n",
    "    \"\"\"emissivity from \"\"\" \n",
    "    unit = 1 \n",
    "    latex_name ='\\epsilon_{r}'\n",
    "    #default = 0.9\n",
    "class eps_b (Variable):\n",
    "    \"\"\"emissivity from \"\"\" \n",
    "    unit = 1 \n",
    "    latex_name ='\\epsilon_{b}'\n",
    "    #default = 0.9\n",
    "        \n",
    "    \n",
    "    \n",
    "class sigma (Variable):\n",
    "    \"\"\" stefan-boltzmann constant\"\"\" \n",
    "    unit =  watt/(meter**2 * kelvin**4)\n",
    "    latex_name ='\\sigma'\n",
    "    default = 5.67 * 10**-8\n",
    "\n",
    "\n",
    "class T_s(Variable): \n",
    "    \"\"\"Effective surface temperature.\"\"\" \n",
    "    unit = kelvin \n",
    "    latex_name ='T_{s}'\n",
    "       \n",
    "    \n",
    "class T_a(Variable): \n",
    "    \"\"\"Air temperature\"\"\" \n",
    "    unit = kelvin \n",
    "    latex_name ='T_a'   \n",
    " \n",
    "    \n",
    "class R_lout(Variable): \n",
    "    \"\"\"upwelling longwave\"\"\" \n",
    "    unit = watt/meter**2\n",
    "    latex_name ='R_{l,out}'\n",
    "    #default = Hs.longwave_up\n",
    "    \n",
    "    \n",
    "class H(Variable): \n",
    "    \"\"\"sensible heat\"\"\" \n",
    "    unit = watt/meter**2\n",
    "    latex_name ='H'\n",
    "    \n",
    "class delta_T(Variable): \n",
    "    \"\"\"difference in surface and air temperature\"\"\" \n",
    "    unit = kelvin \n",
    "    latex_name ='\\Delta T'\n",
    "\n",
    "    "
   ]
  },
  {
   "cell_type": "code",
   "execution_count": 19,
   "metadata": {},
   "outputs": [
    {
     "data": {
      "text/latex": [
       "$\\displaystyle R_{l,out} = R_{l,in} \\left(1 - \\epsilon\\right) + T_{s}^{4} \\epsilon \\sigma$"
      ],
      "text/plain": [
       "                         4    \n",
       "Rₗₒᵤₜ = Rₗᵢₙ⋅(1 - ε) + Tₛ ⋅ε⋅σ"
      ]
     },
     "execution_count": 19,
     "metadata": {},
     "output_type": "execute_result"
    }
   ],
   "source": [
    "# calculation of Ts considering both eitted and reflected radiation(Mike)\n",
    "class R_lin(Variable):\n",
    "    \"\"\"Incoming Longwave radiation\"\"\"\n",
    "    latex_name = r'R_{l,in}'\n",
    "    unit = watt/meter**2\n",
    "class eq_Rlout_Rlin(Equation):\n",
    "    \"\"\"Upwelling longwave radiation including reflected.\"\"\"\n",
    "    expr = Eq(R_lout, sigma*epsilon*T_s**4 + (1-epsilon) * R_lin)\n",
    "eq_Rlout_Rlin"
   ]
  },
  {
   "cell_type": "code",
   "execution_count": 20,
   "metadata": {},
   "outputs": [
    {
     "data": {
      "text/latex": [
       "$\\displaystyle T_{s} = \\sqrt[4]{\\frac{R_{l,in}}{\\sigma} - \\frac{R_{l,in}}{\\epsilon \\sigma} + \\frac{R_{l,out}}{\\epsilon \\sigma}}$"
      ],
      "text/plain": [
       "         _____________________\n",
       "        ╱ Rₗᵢₙ   Rₗᵢₙ   Rₗₒᵤₜ \n",
       "Tₛ = 4 ╱  ──── - ──── + ───── \n",
       "     ╲╱    σ     ε⋅σ     ε⋅σ  "
      ]
     },
     "execution_count": 20,
     "metadata": {},
     "output_type": "execute_result"
    }
   ],
   "source": [
    "class eq_Ts_Rlout_Rlin(eq_Rlout_Rlin.definition):\n",
    "    \"\"\"Surface temperature as a function of LWout and LWin\"\"\"\n",
    "    soln = solve(eq_Rlout_Rlin, T_s, dict=True)\n",
    "    expr = Eq(T_s, soln[3][T_s])\n",
    "eq_Ts_Rlout_Rlin"
   ]
  },
  {
   "cell_type": "markdown",
   "metadata": {},
   "source": [
    "tf_Ts = theano_function([R_lin, R_lout], [eq_Ts_Rlout_Rlin.rhs.subs(Variable.__defaults__)], dims={R_lin:1, R_lout:1})\n",
    "list_Ts = tf_Ts(HWframe.Flu,HWframe.Fld)\n",
    "print(list_Ts)\n"
   ]
  },
  {
   "cell_type": "markdown",
   "metadata": {},
   "source": [
    "## surface temperature calculation: ignoring reflected / SBlaw"
   ]
  },
  {
   "cell_type": "code",
   "execution_count": 21,
   "metadata": {},
   "outputs": [
    {
     "data": {
      "text/latex": [
       "$\\displaystyle R_{l,out} = T_{s}^{4} \\epsilon \\sigma$"
      ],
      "text/plain": [
       "          4    \n",
       "Rₗₒᵤₜ = Tₛ ⋅ε⋅σ"
      ]
     },
     "execution_count": 21,
     "metadata": {},
     "output_type": "execute_result"
    }
   ],
   "source": [
    "class eq_Rlout(Equation):\n",
    "    \"\"\"Upwelling longwave radiation.\"\"\"\n",
    "    expr = Eq(R_lout, sigma*epsilon*T_s**4)\n",
    "eq_Rlout\n"
   ]
  },
  {
   "cell_type": "code",
   "execution_count": 22,
   "metadata": {},
   "outputs": [
    {
     "data": {
      "text/latex": [
       "$\\displaystyle T_{s} = \\sqrt[4]{\\frac{R_{l,out}}{\\epsilon \\sigma}}$"
      ],
      "text/plain": [
       "         _______\n",
       "        ╱ Rₗₒᵤₜ \n",
       "Tₛ = 4 ╱  ───── \n",
       "     ╲╱    ε⋅σ  "
      ]
     },
     "execution_count": 22,
     "metadata": {},
     "output_type": "execute_result"
    }
   ],
   "source": [
    "class eq_Ts_Rlout(eq_Rlout.definition):\n",
    "    \"\"\"Surface temperature as a function of LWout\"\"\"\n",
    "    soln = solve(eq_Rlout, T_s, dict=True)\n",
    "    expr = Eq(T_s, soln[3][T_s])\n",
    "eq_Ts_Rlout"
   ]
  },
  {
   "cell_type": "markdown",
   "metadata": {},
   "source": [
    "## plots:"
   ]
  },
  {
   "cell_type": "code",
   "execution_count": 23,
   "metadata": {},
   "outputs": [],
   "source": [
    "def Ts_boxplt_modeps (df_all,year):    #days,hours):\n",
    "    \"\"\"Plot a panel per month with H and delT.\"\"\"\n",
    "    #df_all = Asframe.copy()\n",
    "    con_month=[]\n",
    "    ign_month=[]\n",
    "    for i in range(12):\n",
    "        list_months = list(range(1,13))\n",
    "        df = df_all[(df_all.index.year == year) & (df_all.index.month == list_months[i]) &  (df_all.Fn > 25) & (df_all.Ws > 2) ]  \n",
    "                    #& (df_all.NETRAD > 25) & (df_all.WS > 2)]\n",
    "                    #& (df_all.index.day == days) & (df_all.index.hour== hours) & (df_all.index.minute == 0)] \n",
    "        epsilon1=0.97\n",
    "        epsilon_mod=0.97\n",
    "        \n",
    "        \n",
    "        ign_rad=[]\n",
    "        con_rad=[]\n",
    "            \n",
    "            \n",
    "        tf_T_s1 = theano_function([R_lout], [eq_Ts_Rlout.rhs.subs(epsilon, epsilon1).\n",
    "                                                          subs(Variable.__defaults__)], dims={R_lout:1})\n",
    "                                                       \n",
    "            \n",
    "        list_T_s1 = tf_T_s1(df.Flu)\n",
    "        df = df.assign(T_s1=list_T_s1)\n",
    "            #####\n",
    "        tf_T_s = theano_function([R_lin, R_lout], [eq_Ts_Rlout_Rlin.rhs.subs(epsilon, epsilon1).\n",
    "                                                          subs(Variable.__defaults__)], dims={R_lin:1, R_lout:1})\n",
    "                                                       \n",
    "        list_T_s = tf_T_s(df.Fld,df.Flu)\n",
    "        df = df.assign(T_s=list_T_s)\n",
    "        \n",
    "        ign_rad.append(df.T_s1)\n",
    "        con_rad.append(df.T_s)\n",
    "            \n",
    "            #my_con1=np.ravel(con_rad)\n",
    "            #print(len(my_con1))\n",
    "        my_con2=np.ravel(con_rad)\n",
    "        my_ign2=np.ravel(ign_rad)\n",
    "        \n",
    "            #monthsdata= pd.DataFrame(columns=[\"months\", \"Ts\"])\n",
    "        con_month.append(my_con2)\n",
    "        ign_month.append(my_ign2)\n",
    "       \n",
    "       \n",
    "    box=plt.boxplot([con_month[0],con_month[1],con_month[2],con_month[3],con_month[4],con_month[5],\n",
    "             con_month[6],con_month[7],con_month[8],con_month[9],con_month[10],con_month[11]],1,patch_artist=True,\n",
    "               positions=np.arange(0.75,12.75))\n",
    "    box1=plt.boxplot([ign_month[0],ign_month[1],ign_month[2],ign_month[3],ign_month[4],ign_month[5],\n",
    "             ign_month[6],ign_month[7],ign_month[8],ign_month[9],ign_month[10],ign_month[11]],1,patch_artist=True,\n",
    "                 positions=np.arange(1.25,13.25))\n",
    "    plt.setp(box1[\"boxes\"], facecolor='orange')\n",
    "    plt.setp(box[\"boxes\"], facecolor='blue')\n",
    "    plt.ylim(273, 335)\n",
    "    plt.xticks(np.arange(1,13), ('0','1','2','3','4','5','6','7','8','9','10','11','12'))\n",
    "    plt.ylabel('Temperature (K)', ha='center',fontsize=20)\n",
    "    plt.xlabel('Month', labelpad=10, va='center',fontsize=20)\n",
    "   \n",
    "    #plt.ylim(min(y), max(y))\n",
    "    plt.legend([box[\"boxes\"][0],box1[\"boxes\"][0]],[\"considering relected component\", \"ignoring relected component\"],loc=\"upper left\")         \n",
    "    plt.title('{0},$\\epsilon_mod$={1}'.format(df.index[0].date().strftime('%Y'), \n",
    "                                               str(np.round(epsilon_mod,decimals=3))))\n",
    "                                               \n",
    "                                                #str(np.round(epsilon2,decimals=3))))\n",
    "    plt.grid()\n",
    "    plt.show()\n",
    "\n",
    "   \n",
    "    "
   ]
  },
  {
   "cell_type": "markdown",
   "metadata": {},
   "source": [
    "### Ts and TS1 box plot for eps range:"
   ]
  },
  {
   "cell_type": "markdown",
   "metadata": {},
   "source": [
    "### for modis eps"
   ]
  },
  {
   "cell_type": "code",
   "execution_count": 24,
   "metadata": {},
   "outputs": [],
   "source": [
    "class epsilon_mod (Variable):\n",
    "    \"\"\"emissivity \"\"\" \n",
    "    unit = 1 \n",
    "    latex_name ='\\epsilon_{modis}'\n",
    "    #default = 0.9"
   ]
  },
  {
   "cell_type": "code",
   "execution_count": 25,
   "metadata": {},
   "outputs": [],
   "source": [
    "#generate_metadata_table([])"
   ]
  },
  {
   "cell_type": "markdown",
   "metadata": {},
   "source": [
    "## opt eps using OLS: considering reflected"
   ]
  },
  {
   "cell_type": "markdown",
   "metadata": {},
   "source": [
    "plt_path= '/home/gitanjalithakur/Documents/Aerodynamic_conductance/essm/aerodynamic_conductances/jupyter/LST_epsilon/plots/'"
   ]
  },
  {
   "cell_type": "code",
   "execution_count": 26,
   "metadata": {},
   "outputs": [],
   "source": [
    "opteps_As_ref = pd.DataFrame(columns=[\"RMSE\", \"m\",\"eps_ref\",\"R2\"])\n",
    "def opteps_OLS_loop (years, df_all,mnth,xcol = 'DT', ycol = 'Fh', \n",
    "                     eqdigits=3, epsmin=0.7, epsmax=0.999, epsincr=0.002):\n",
    "    \n",
    "    k=0\n",
    "    epsilon1=np.arange(epsmin, epsmax, epsincr).tolist() # using array of the epsilon values\n",
    "    df = df_all[(df_all.index.year == years)& (df_all.index.month == mnth)  & (df_all.Fn > 25) & (df_all.Ws > 2)\n",
    "         &(df_all.Fld_QCFlag==00)&(df_all.Flu_QCFlag==00)\n",
    "                &(df_all.Ta_QCFlag==00)&(df_all.Fh_QCFlag==00)]\n",
    "    \n",
    "    for j in range(len(epsilon1)) :\n",
    "        tf_T_s = theano_function([R_lin, R_lout], [eq_Ts_Rlout_Rlin.rhs.subs(epsilon, epsilon1[j]).\n",
    "                                                          subs(Variable.__defaults__)], dims={R_lin:1, R_lout:1})\n",
    "                                                       \n",
    "        \n",
    "       \n",
    "        \n",
    "        list_T_s = tf_T_s((df.Fld),(df.Flu)) # both longwave are overestimated by 5 watt/m2\n",
    "        \n",
    "        df = df.assign(T_s=list_T_s)\n",
    "        #ycol = (df.Fh +30  )\n",
    "        list_DT = df.T_s - df.T_a\n",
    "        df = df.assign(DT=(df.T_s - df.T_a))\n",
    "        ####\n",
    "       \n",
    "        #####\n",
    "        df1 = df.dropna(subset=[xcol, ycol]) # for removing nan values\n",
    "        xdata1 = df1[xcol]\n",
    "        ydata1 = df1[ycol]\n",
    "        x=np.array(xdata1)\n",
    "        y=np.array(ydata1)\n",
    "        x=x.reshape(-1,1)\n",
    "        y=y.reshape(-1,1)  # sensible heat is overestimated by 30 watt/m2\n",
    "        reg=LinearRegression(fit_intercept=False).fit(x, y) ## 2d x\n",
    "        m=float(reg.coef_)\n",
    "        y_pred = m*x\n",
    "        N=len(y)\n",
    "        MSE= mean_squared_error(y,y_pred)\n",
    "        RMSE=float(sqrt(MSE))\n",
    "        r2=r2_score(y,y_pred)\n",
    "        if r2 > 0.5:\n",
    "            opteps_As_ref.loc[k]=[RMSE, m, epsilon1[j], r2]\n",
    "        else:\n",
    "            opteps_As_ref.loc[k]=[np.nan, np.nan, 1, r2]\n",
    "        k=k+1\n",
    "        \n",
    "    \n",
    "    df_eps_ref=opteps_As_ref.copy()\n",
    "    \n",
    "    df_eps_ref.sort_values(by=['RMSE'],ascending=True,inplace=True)\n",
    "   \n",
    "    return df_eps_ref.eps_ref.iloc[0]\n",
    "        "
   ]
  },
  {
   "cell_type": "code",
   "execution_count": 27,
   "metadata": {},
   "outputs": [
    {
     "data": {
      "text/latex": [
       "$\\displaystyle 0.822$"
      ],
      "text/plain": [
       "0.8220000000000001"
      ]
     },
     "execution_count": 27,
     "metadata": {},
     "output_type": "execute_result"
    }
   ],
   "source": [
    "opteps_OLS_loop (2017, HWframe,10)"
   ]
  },
  {
   "cell_type": "markdown",
   "metadata": {},
   "source": [
    "### opt eps plot"
   ]
  },
  {
   "cell_type": "code",
   "execution_count": 28,
   "metadata": {},
   "outputs": [],
   "source": [
    "def opteps_OLS_months2 (years, df,mnth,epsilon1,xcol = 'DT', ycol = 'Fh', eqdigits=3,):\n",
    "    \n",
    "    df_all = HWframe.copy()\n",
    "     # using array of the epsilon values\n",
    "    df = df_all[(df_all.index.year == years)& (df_all.index.month == mnth)  & (df_all.Fn > 25) & (df_all.Ws > 2)\n",
    "        &(df_all.Fld_QCFlag==00)&(df_all.Flu_QCFlag==00)\n",
    "                &(df_all.Ta_QCFlag==00)&(df_all.Fh_QCFlag==00)]\n",
    "    \n",
    "   \n",
    "    tf_T_s = theano_function([R_lin, R_lout], [eq_Ts_Rlout_Rlin.rhs.subs(epsilon, epsilon1).\n",
    "                                                          subs(Variable.__defaults__)], dims={R_lin:1, R_lout:1})\n",
    "                                                       \n",
    "        \n",
    "        \n",
    "   \n",
    "        \n",
    "        \n",
    "    list_T_s = tf_T_s(df.Fld, df.Flu ) # both longwave are underestimated by 5 watt/m2\n",
    "   \n",
    "    df = df.assign(T_s=list_T_s)\n",
    "    #list_H = (df.Fh  30)\n",
    "    list_DT = df.T_s - df.T_a\n",
    "    df = df.assign(DT=(df.T_s - df.T_a))\n",
    "        ####\n",
    "   \n",
    "        #####\n",
    "    df1 = df.dropna(subset=[xcol, ycol])# for removing nan values\n",
    "    xdata1 = df1[xcol]\n",
    "    ydata1 = df1[ycol]\n",
    "    x=np.array(xdata1)\n",
    "    y=np.array(ydata1)\n",
    "    x=x.reshape(-1,1)\n",
    "    y=y.reshape(-1,1)  # sensible heat is overestimated by 30 watt/m2\n",
    "    reg=LinearRegression(fit_intercept=False).fit(x, y) ## 2d x\n",
    "    m=float(reg.coef_)\n",
    "    y_pred = m*x\n",
    "    N=len(y)\n",
    "    MSE= mean_squared_error(y,y_pred)\n",
    "    RMSE=float(sqrt(MSE))\n",
    "    print(RMSE)\n",
    "    r2=r2_score(y,y_pred)\n",
    "    legendtext = 'y=m x \\nm={0}\\n'r'R$^2$={1}''\\nRMSE={2}\\nN={3}'.format(str(np.round(m,decimals=eqdigits)),\n",
    "                                                                 str(np.round(r2,decimals=eqdigits)),\n",
    "                                                                 str(np.round(RMSE, decimals=eqdigits)),\n",
    "                                                                 str(np.round(N, decimals=eqdigits)))\n",
    "\n",
    "        \n",
    "        \n",
    "    plt.plot(x,y,\"+\",label='_nolegend_')#.format(list_months))\n",
    "    #plt.plot(df12.DT2,df12.fh,\".k\",label='_nolegend_')\n",
    "    plt.xlabel(r'$T_{leq} - T_{a} (K)$', ha='center',fontsize=20)\n",
    "    plt.ylabel(r'$H (W m^{-2})$', labelpad=10, va='center',fontsize=20)\n",
    "    plt.title('Alice Spring,{0}, $\\epsilon$={1}'.format(df.index[0].date().strftime('%Y/%m'), \n",
    "                                          str(np.round(epsilon1,decimals=3))))\n",
    "    plt.rc('xtick',labelsize=14)\n",
    "    plt.rc('ytick',labelsize=14)\n",
    "    plt.xticks([-5,0,5,10,15])\n",
    "    \n",
    "    plt.xlim(0, 15)\n",
    "    plt.ylim(0, 500)\n",
    "        \n",
    "    plt.plot(x,y_pred, color='red',label=legendtext)# predicted\n",
    "    plt.legend(loc=\"upper left\")\n",
    "    plt.grid()\n",
    "    plt.show()\n",
    "    print(RMSE) \n",
    "        \n",
    "    "
   ]
  },
  {
   "cell_type": "code",
   "execution_count": 29,
   "metadata": {},
   "outputs": [
    {
     "name": "stdout",
     "output_type": "stream",
     "text": [
      "41.925461390195515\n"
     ]
    },
    {
     "data": {
      "image/png": "[encoded data removed]",
      "text/plain": [
       "<Figure size 432x288 with 1 Axes>"
      ]
     },
     "metadata": {
      "needs_background": "light"
     },
     "output_type": "display_data"
    },
    {
     "name": "stdout",
     "output_type": "stream",
     "text": [
      "41.925461390195515\n"
     ]
    }
   ],
   "source": [
    "opteps_OLS_months2( 2016,HWframe,6,0.914)"
   ]
  },
  {
   "cell_type": "code",
   "execution_count": 30,
   "metadata": {},
   "outputs": [
    {
     "name": "stdout",
     "output_type": "stream",
     "text": [
      "54.73505240124359\n"
     ]
    },
    {
     "data": {
      "image/png": "[encoded data removed]",
      "text/plain": [
       "<Figure size 432x288 with 1 Axes>"
      ]
     },
     "metadata": {
      "needs_background": "light"
     },
     "output_type": "display_data"
    },
    {
     "name": "stdout",
     "output_type": "stream",
     "text": [
      "54.73505240124359\n"
     ]
    }
   ],
   "source": [
    "opteps_OLS_months2( 2016,HWframe,6,0.974)"
   ]
  },
  {
   "cell_type": "markdown",
   "metadata": {},
   "source": [
    "## Yearly epsilon:"
   ]
  },
  {
   "cell_type": "code",
   "execution_count": null,
   "metadata": {},
   "outputs": [
    {
     "name": "stdout",
     "output_type": "stream",
     "text": [
      "52.34964711654415\n"
     ]
    },
    {
     "data": {
      "image/png": "[encoded data removed]",
      "text/plain": [
       "<Figure size 432x288 with 1 Axes>"
      ]
     },
     "metadata": {
      "needs_background": "light"
     },
     "output_type": "display_data"
    },
    {
     "name": "stdout",
     "output_type": "stream",
     "text": [
      "52.34964711654415\n",
      "44.50695742844667\n"
     ]
    },
    {
     "data": {
      "image/png": "[encoded data removed]",
      "text/plain": [
       "<Figure size 432x288 with 1 Axes>"
      ]
     },
     "metadata": {
      "needs_background": "light"
     },
     "output_type": "display_data"
    },
    {
     "name": "stdout",
     "output_type": "stream",
     "text": [
      "44.50695742844667\n",
      "43.62101759806042\n"
     ]
    },
    {
     "data": {
      "image/png": "[encoded data removed]",
      "text/plain": [
       "<Figure size 432x288 with 1 Axes>"
      ]
     },
     "metadata": {
      "needs_background": "light"
     },
     "output_type": "display_data"
    },
    {
     "name": "stdout",
     "output_type": "stream",
     "text": [
      "43.62101759806042\n",
      "48.78798623883036\n"
     ]
    },
    {
     "data": {
      "image/png": "[encoded data removed]",
      "text/plain": [
       "<Figure size 432x288 with 1 Axes>"
      ]
     },
     "metadata": {
      "needs_background": "light"
     },
     "output_type": "display_data"
    },
    {
     "name": "stdout",
     "output_type": "stream",
     "text": [
      "48.78798623883036\n",
      "47.11366455111613\n"
     ]
    },
    {
     "data": {
      "image/png": "[encoded data removed]",
      "text/plain": [
       "<Figure size 432x288 with 1 Axes>"
      ]
     },
     "metadata": {
      "needs_background": "light"
     },
     "output_type": "display_data"
    },
    {
     "name": "stdout",
     "output_type": "stream",
     "text": [
      "47.11366455111613\n",
      "42.12454589930604\n"
     ]
    },
    {
     "data": {
      "image/png": "[encoded data removed]",
      "text/plain": [
       "<Figure size 432x288 with 1 Axes>"
      ]
     },
     "metadata": {
      "needs_background": "light"
     },
     "output_type": "display_data"
    },
    {
     "name": "stdout",
     "output_type": "stream",
     "text": [
      "42.12454589930604\n",
      "39.09832652413563\n"
     ]
    },
    {
     "data": {
      "image/png": "[encoded data removed]",
      "text/plain": [
       "<Figure size 432x288 with 1 Axes>"
      ]
     },
     "metadata": {
      "needs_background": "light"
     },
     "output_type": "display_data"
    },
    {
     "name": "stdout",
     "output_type": "stream",
     "text": [
      "39.09832652413563\n",
      "40.8734933249031\n"
     ]
    },
    {
     "data": {
      "image/png": "[encoded data removed]",
      "text/plain": [
       "<Figure size 432x288 with 1 Axes>"
      ]
     },
     "metadata": {
      "needs_background": "light"
     },
     "output_type": "display_data"
    },
    {
     "name": "stdout",
     "output_type": "stream",
     "text": [
      "40.8734933249031\n",
      "53.38824703105006\n"
     ]
    },
    {
     "data": {
      "image/png": "[encoded data removed]",
      "text/plain": [
       "<Figure size 432x288 with 1 Axes>"
      ]
     },
     "metadata": {
      "needs_background": "light"
     },
     "output_type": "display_data"
    },
    {
     "name": "stdout",
     "output_type": "stream",
     "text": [
      "53.38824703105006\n",
      "67.97089267631475\n"
     ]
    },
    {
     "data": {
      "image/png": "[encoded data removed]",
      "text/plain": [
       "<Figure size 432x288 with 1 Axes>"
      ]
     },
     "metadata": {
      "needs_background": "light"
     },
     "output_type": "display_data"
    },
    {
     "name": "stdout",
     "output_type": "stream",
     "text": [
      "67.97089267631475\n"
     ]
    }
   ],
   "source": [
    "yr=2017\n",
    "mnth=0\n",
    "list_opt_epsref1=[]\n",
    "for i in range(12):\n",
    "    mnth=i+1\n",
    "    opteps_As_ref = pd.DataFrame(columns=[\"RMSE\", \"m\",\"eps_ref\",\"R2\"])\n",
    "    opt_eps = opteps_OLS_loop(yr, HWframe,mnth)\n",
    "    \n",
    "    if opt_eps<1:\n",
    "        list_opt_epsref1.append(opt_eps)\n",
    "        opteps_OLS_months2(yr, HWframe,mnth,opt_eps)\n",
    "       \n",
    "    else:\n",
    "        list_opt_epsref1.append(1)\n",
    "    \n",
    "const=np.mean(list_opt_epsref1)\n",
    "plt.plot([1,2,3,4,5,6,7,8,9,10,11,12],list_opt_epsref1,color= 'orange')\n",
    "plt.axhspan(const-0.0001,const+0.0001,color='m',alpha=0.9, lw=1.2,ls='dotted')\n",
    "plt.xlabel('Month', ha='center',fontsize=20)\n",
    "plt.ylabel('Emissivity', labelpad=10, va='center',fontsize=20)\n",
    "plottitle = r'${0},Alice spring,Leq$'.format(str(np.round(yr)))\n",
    "fname = 'AS_le_{0}'.format(str(np.round(yr)))\n",
    "plt.title(plottitle)\n",
    "plt.grid()\n",
    "plt.tight_layout()\n",
    "plt.savefig(plt_path+fname+'.png',bbox_inches = 'tight',facecolor='w', edgecolor='w', orientation='portrait')\n",
    "plt.show()"
   ]
  },
  {
   "cell_type": "code",
   "execution_count": null,
   "metadata": {},
   "outputs": [],
   "source": [
    "from random import seed\n",
    "from random import sample\n",
    "from numpy.random import randint\n",
    "import random"
   ]
  },
  {
   "cell_type": "markdown",
   "metadata": {},
   "source": [
    "### opt eps for each sample"
   ]
  },
  {
   "cell_type": "code",
   "execution_count": null,
   "metadata": {},
   "outputs": [],
   "source": [
    "#opteps_flux_unc.to_csv('/home/thakur_21505/lst-retrival-from-fluxnet-data/output/salib_as.csv')"
   ]
  },
  {
   "cell_type": "code",
   "execution_count": null,
   "metadata": {},
   "outputs": [],
   "source": [
    "## opening txt with jason:"
   ]
  },
  {
   "cell_type": "code",
   "execution_count": null,
   "metadata": {},
   "outputs": [],
   "source": [
    "#import requests"
   ]
  },
  {
   "cell_type": "code",
   "execution_count": null,
   "metadata": {},
   "outputs": [],
   "source": [
    "#return requests.get(\"/home/thakur_21505/lst-retrival-from-fluxnet-data/notebook/sobl_analyse_As.txt\").json()"
   ]
  },
  {
   "cell_type": "code",
   "execution_count": null,
   "metadata": {},
   "outputs": [],
   "source": [
    "#d2 = json.load(open(\"/home/thakur_21505/lst-retrival-from-fluxnet-data/notebook/sobl_analyse_As.txt\"))"
   ]
  },
  {
   "cell_type": "markdown",
   "metadata": {},
   "source": [
    "## reading  sobol txt file:"
   ]
  },
  {
   "cell_type": "code",
   "execution_count": null,
   "metadata": {},
   "outputs": [],
   "source": [
    "#filename='/home/thakur_21505/lst-retrival-from-fluxnet-data/notebook/sobl_analyse_As.txt'\n",
    "#open(filename, \"r\")"
   ]
  },
  {
   "cell_type": "code",
   "execution_count": null,
   "metadata": {},
   "outputs": [],
   "source": [
    "#Si['S2'][0,1]"
   ]
  },
  {
   "cell_type": "code",
   "execution_count": null,
   "metadata": {},
   "outputs": [],
   "source": [
    "#Si['S1'][0,2]\n",
    "#Si['ST'][0,2]\n",
    "#Si['S2'][0,2]\n"
   ]
  },
  {
   "cell_type": "markdown",
   "metadata": {},
   "source": [
    "### uncertainity  analysis for 2018: eps from 1 to 0.2\n",
    "after stans commenton the issue https://git.list.lu/wave/lst-retrival-from-fluxnet-data/-/issues/10"
   ]
  },
  {
   "cell_type": "code",
   "execution_count": null,
   "metadata": {},
   "outputs": [],
   "source": [
    "#opteps_loop_salib2 (2017,HWframe,3,-15,5,0.5)"
   ]
  },
  {
   "cell_type": "code",
   "execution_count": null,
   "metadata": {},
   "outputs": [],
   "source": [
    "opteps_flux_unc= pd.DataFrame(columns=[\"year\", \"month\",\"unc_flu\",\"unc_ta\",\"eps\"])\n",
    "\n",
    "months=10 \n",
    "year=2017 \n",
    "jj=0 \n",
    "#k in range(0,12):\n",
    "\n",
    "problem = {\n",
    "       'num_vars': 1,\n",
    "       'names': [ 'dFlu',],\n",
    "       'bounds': [[-5,5],\n",
    "                ]\n",
    "    }\n",
    "param_values = saltelli.sample(problem, 100, calc_second_order=True)\n",
    "eps = np.zeros([param_values.shape[0]])\n",
    "for i in range(0,len(param_values)):\n",
    "    #unc_H=param_values[i,0]\n",
    "    #unc_Fld=param_values[i,1]\n",
    "    unc_Flu=param_values[i,0]\n",
    "    #unc_Ta=param_values[i,3]\n",
    "    eps[i]=opteps_loop_salib21 (HWframe,2017,10,unc_Flu)\n",
    "    opteps_flux_unc.loc[jj]=[year,months,unc_Flu,eps[i]]\n",
    "    jj=jj+1\n",
    "#with open(\"sobl_analyse_.txt\",\"a\") as file :\n",
    "#outfile = open(\"sobl_analyse_As.txt\", mode=\"a\")# to append \n",
    "#outfile.write(\"%s,%s,%s,%s,%s,%s\\n\" %(\"S1\",\"S1_conf\", \"ST\", \"ST_conf\",\"S2\", \"S2_conf\"))\n",
    "\n",
    "    #Si = sobol.analyze(problem, eps,print_to_console=True) \n"
   ]
  },
  {
   "cell_type": "markdown",
   "metadata": {},
   "source": [
    "opteps_flux_error= pd.DataFrame(columns=[\"year\", \"month\",\"unc_h\",\"unc_flu\",\"unc_ta\",\"eps\"])\n",
    "sobol_index= pd.DataFrame(columns=[\"Param\", \"S1\",\"S1_conf\",\"ST\",\"ST_conf\",\n",
    "                                  \"dhS2\",\"dfluS2\",\"dTaS2\",\"dhS2_conf\",\"dfluS2_conf\",\"dTaS2_conf\",\"month\"])\n",
    "months=(np.arange(1,13))\n",
    "year=2017\n",
    "jj=0\n",
    "kk=0\n",
    "for k in range(0,12):\n",
    "    \n",
    "    problem = {\n",
    "           'num_vars': 3,\n",
    "           'names': ['dFh', 'dFlu','dTa'],\n",
    "           'bounds': [[-20,20],\n",
    "               [-5,5],\n",
    "               [-1,1]      ]\n",
    "        }\n",
    "    param_values = saltelli.sample(problem, 100, calc_second_order=True)\n",
    "    eps = np.zeros([param_values.shape[0]])\n",
    "    for i in range(0,len(param_values)):\n",
    "        unc_H=param_values[i,0]\n",
    "        #unc_Fld=param_values[i,1]\n",
    "        unc_Flu=param_values[i,1]\n",
    "        unc_Ta=param_values[i,2]\n",
    "        eps[i]=opteps_loop_salib2(2017,HWframe,months[k],unc_H,unc_Flu,unc_Ta)\n",
    "        opteps_flux_error.loc[jj]=[year,months[k],unc_H,unc_Flu,unc_Ta,eps[i]]\n",
    "        jj=jj+1\n",
    "        \n",
    "\n",
    "    \n",
    "    Si = sobol.analyze(problem, eps,print_to_console=True)\n",
    "    Param=['dh','dflu','dta']\n",
    "    sobol_index.loc[0+(3*kk)]=[Param[0], Si['S1'][0],Si['S1_conf'][0],Si['ST'][0],Si['ST_conf'][0],np.nan,Si['S2'][0,1],\n",
    "                              Si['S2'][0,2],\n",
    "                              np.nan,Si['S2_conf'][0,1],\n",
    "                              Si['S2_conf'][0,2],months[k]]\n",
    "    sobol_index.loc[1+(3*kk)]=[Param[1], Si['S1'][1],Si['S1_conf'][1],Si['ST'][1],Si['ST_conf'][1],np.nan,np.nan,Si['S2'][1,2],\n",
    "                               np.nan,np.nan,Si['S2_conf'][1,2],months[k]]\n",
    "    sobol_index.loc[2+(3*kk)]=[Param[2], Si['S1'][2],Si['S1_conf'][2],Si['ST'][2],Si['ST_conf'][2],np.nan,np.nan,np.nan,\n",
    "                            np.nan,np.nan,np.nan,months[k]]                          \n",
    "    kk=kk+1\n",
    "        \n",
    "                               \n"
   ]
  },
  {
   "cell_type": "code",
   "execution_count": null,
   "metadata": {},
   "outputs": [],
   "source": [
    "#opteps_flux_error.to_csv('/home/thakur_21505/lst-retrival-from-fluxnet-data/output/salib_AS_corr_seq.csv')"
   ]
  },
  {
   "cell_type": "markdown",
   "metadata": {},
   "source": [
    "## opt eps box plot leq"
   ]
  },
  {
   "cell_type": "code",
   "execution_count": null,
   "metadata": {},
   "outputs": [],
   "source": [
    "flux_unc=pd.read_csv('/home/thakur_21505/lst-retrival-from-fluxnet-data/output/salib_AS_leq.csv')"
   ]
  },
  {
   "cell_type": "code",
   "execution_count": null,
   "metadata": {},
   "outputs": [],
   "source": [
    "flux_unc.eps"
   ]
  },
  {
   "cell_type": "code",
   "execution_count": null,
   "metadata": {},
   "outputs": [],
   "source": [
    "dt_unc1=flux_unc.eps.copy()\n",
    "opteps_1=np.array(dt_unc1[0:1000])\n",
    "opteps_2=np.array(dt_unc1[1000:2000])\n",
    "opteps_3=np.array(dt_unc1[2000:3000])\n",
    "opteps_4=np.array(dt_unc1[3000:4000])\n",
    "opteps_5=np.array(dt_unc1[4000:5000])\n",
    "opteps_6=np.array(dt_unc1[5000:6000])\n",
    "opteps_7=np.array(dt_unc1[6000:7000])\n",
    "opteps_8=np.array(dt_unc1[7000:8000])\n",
    "opteps_9=np.array(dt_unc1[8000:9000])\n",
    "opteps_10=np.array(dt_unc1[9000:10000])\n",
    "opteps_11=np.array(dt_unc1[10000:11000])\n",
    "opteps_12=np.array(dt_unc1[11000:12000])\n",
    "\n",
    "\n",
    "\n"
   ]
  },
  {
   "cell_type": "markdown",
   "metadata": {},
   "source": [
    "## opt eps box plot seq"
   ]
  },
  {
   "cell_type": "code",
   "execution_count": null,
   "metadata": {},
   "outputs": [],
   "source": [
    "flux_unc_seq=pd.read_csv('../output/salib_AS_corr_seq.csv')"
   ]
  },
  {
   "cell_type": "code",
   "execution_count": null,
   "metadata": {},
   "outputs": [],
   "source": [
    "flux_unc_seq"
   ]
  },
  {
   "cell_type": "code",
   "execution_count": null,
   "metadata": {},
   "outputs": [],
   "source": [
    "## "
   ]
  },
  {
   "cell_type": "code",
   "execution_count": null,
   "metadata": {},
   "outputs": [],
   "source": [
    "flux_unc_seq.eps[0:800]"
   ]
  },
  {
   "cell_type": "code",
   "execution_count": null,
   "metadata": {},
   "outputs": [],
   "source": []
  },
  {
   "cell_type": "code",
   "execution_count": null,
   "metadata": {},
   "outputs": [],
   "source": [
    "dt_unc_seq=flux_unc_seq.eps.copy()\n",
    "opteps1_1=np.array(dt_unc_seq[0:800])\n",
    "opteps1_2=np.array(dt_unc_seq[800:1600])\n",
    "opteps1_3=np.array(dt_unc_seq[1600:2400])\n",
    "opteps1_4=np.array(dt_unc_seq[2400:3200])\n",
    "opteps1_5=np.array(dt_unc_seq[3200:4000])\n",
    "opteps1_6=np.array(dt_unc_seq[4000:4800])\n",
    "opteps1_7=np.array(dt_unc_seq[4800:5600])\n",
    "opteps1_8=np.array(dt_unc_seq[5600:6400])\n",
    "opteps1_9=np.array(dt_unc_seq[6400:7200])\n",
    "opteps1_10=np.array(dt_unc_seq[7200:8000])\n",
    "opteps1_11=np.array(dt_unc_seq[8000:8800])\n",
    "opteps1_12=np.array(dt_unc_seq[8800:9600])\n",
    "\n",
    "\n",
    "\n"
   ]
  },
  {
   "cell_type": "code",
   "execution_count": null,
   "metadata": {},
   "outputs": [],
   "source": [
    "fig, ax1 = plt.subplots(figsize=(14, 8))\n",
    "fig.canvas.set_window_title('temp bias boxplot')\n",
    "plt.subplots_adjust(left=0.075, right=0.95, top=0.9, bottom=0.25)\n",
    "\n",
    "\n",
    "box=plt.boxplot([opteps_1.flatten(),opteps_2.flatten(),opteps_3.flatten(),opteps_4.flatten(),opteps_5.flatten(),\n",
    "                 opteps_6.flatten(),opteps_7.flatten(),opteps_8.flatten(),opteps_9.flatten(),\n",
    "                 opteps_10.flatten(),opteps_11.flatten(),opteps_12.flatten()],1,widths=0.2,patch_artist=True,\n",
    "                positions=np.arange(0.5,12.50))\n",
    "### box plot using short equation\n",
    "box1=plt.boxplot([opteps1_1.flatten(),opteps1_2.flatten(),opteps1_3.flatten(),opteps1_4.flatten(),opteps1_5.flatten(),\n",
    "                  opteps1_6.flatten(),opteps1_7.flatten(),opteps1_8.flatten(),opteps1_9.flatten(),opteps1_10.flatten(),\n",
    "                  opteps1_11.flatten(),opteps1_12.flatten()]\n",
    "                 ,1,widths=0.2,patch_artist=True,\n",
    "                 positions=np.arange(0.75,12.75))\n",
    "               \n",
    "               \n",
    "               \n",
    "               \n",
    "plt.setp(box[\"boxes\"], facecolor='blue')\n",
    "plt.setp(box1[\"boxes\"], facecolor='black')\n",
    "#line1,=plt.plot(np.arange(0.5,12.5),list_opt_epsref1, color='r', label='optimum epsilon using Leq',zorder=10)\n",
    "#line2,=plt.plot(np.arange(0.75,12.75),list_opt_epsign1, color='g', label='optimum epsilon using Seq',zorder=10)\n",
    "\n",
    "#plt.legend([box[\"boxes\"][0],box1[\"boxes\"][0],line1, line2],[\"Leq with flux uncertainty\", \"Seq with flux uncertainty\"],\n",
    "           #loc=\"lower right\")    \n",
    "\n",
    "ax1.yaxis.grid(True, linestyle='-', which='major', color='lightgrey',alpha=0.5)\n",
    "\n",
    "ax1.grid(axis='y')\n",
    "ax1.set_axisbelow(True)\n",
    "ax1.set_ylabel(\"Optimum \" +\"$\\epsilon$\", ha='center',fontsize=20)\n",
    "ax1.set_xlabel('Month', ha='center',fontsize=20)\n",
    "numBoxes=12\n",
    "medians=list(range(numBoxes))\n",
    "medians1=list(range(numBoxes))\n",
    "for i in range(numBoxes):\n",
    "    med = box['medians'][i]\n",
    "    med1 = box1['medians'][i]\n",
    "    medianX = []\n",
    "    medianY = []\n",
    "    medianX1 = []\n",
    "    medianY1 = []\n",
    "    for j in range(2):\n",
    "        medianX.append(med.get_xdata()[j])\n",
    "        medianY.append(med.get_ydata()[j])\n",
    "        medianX1.append(med1.get_xdata()[j])\n",
    "        medianY1.append(med1.get_ydata()[j])\n",
    "        plt.plot(medianX, medianY)\n",
    "        plt.plot(medianX1, medianY1)\n",
    "        medians[i] = medianY[0]\n",
    "        medians1[i] = medianY1[0]\n",
    "        #medians[i] = medianx[0]\n",
    "# Set the axes ranges and axes labels\n",
    "#eps=[0.985,0.983,0.974,0.985,0.984]#,0.974,0.985,0.985,0.983,0.974]\n",
    "ax1.set_xlim(0, numBoxes)\n",
    "top = 1.01\n",
    "bottom = 0.65\n",
    "ax1.set_ylim(bottom, top)\n",
    "ax1.yaxis.set_tick_params(labelsize=20)\n",
    "#xtickNames = plt.setp(ax1, xticklabels=('Jan','Feb','Mar','Apr','May','Jun','Jul','Aug','Sep','Oct','Nov','Dec'))\n",
    "#plt.setp(xtickNames, rotation=45, fontsize=12, fontweight='bold')\n",
    "plt.xticks(np.arange(0.625,13.625), (\"Jan\",\"Feb\",\"Mar\",\"Apr\",\"May\",\"Jun\",\"Jul\",\"Aug\",\"Sep\",\"Oct\",\"Nov\",\"Dec\"))\n",
    "#plt.xticks('Jan','Feb','Mar','Apr','May','Jun','Jul','Aug','Sep','Oct','Nov','Dec') #\n",
    "pos = np.arange(0.625,13.625)#np.arange(numBoxes) + 1\n",
    "upperLabels = [str(np.round(s, 2)) for s in medians]\n",
    "upperLabels1 = [str(np.round(s1, 2)) for s1 in medians1]\n",
    "weights = ['bold', 'semibold']\n",
    "for tick, label in zip(range(numBoxes), ax1.get_xticklabels()):\n",
    "    k = tick % 2\n",
    "    ax1.text(pos[tick], top +0.005, upperLabels[tick],\n",
    "             horizontalalignment='center', size='x-large', weight=weights[k],\n",
    "             color='b')\n",
    "    ax1.text(pos[tick], top + 0.025, upperLabels1[tick],\n",
    "             horizontalalignment='center', size='x-large', weight=weights[k],\n",
    "             color='black')\n",
    "    #ax1.text(pos[tick], bottom + 4, eps[tick],\n",
    "            # horizontalalignment='center', size='x-large', weight=weights[k],\n",
    "             #color='k')\n",
    "plt.grid(axis='y')\n",
    "fname = 'opteps_boxplt'\n",
    "#plt.plot(np.arange(0.25,5.25),y2,'*')\n",
    "plt.tight_layout()\n",
    "plt.savefig(plt_path+fname+'.png',facecolor='w', edgecolor='w', orientation='portrait')\n",
    "plt.show()\n",
    "\n",
    "\n",
    "\n",
    "        \n",
    "        \n",
    "        \n",
    "             #color='k')\n",
    "\n",
    "#fname = 'opteps_boxplt'\n",
    "#plt.savefig(plt_path+fname+'.png',facecolor='w', edgecolor='w', orientation='portrait')\n",
    "#plt.plot(np.arange(1,13),list_opt_epsref1, color='red')\n",
    "#plt.show()\n",
    "#plt.plot(np.arange(0.75,5.75),y2,'*')\n",
    "#plt.show()\n",
    "\n",
    "\n",
    "\n",
    "        \n",
    "        "
   ]
  },
  {
   "cell_type": "markdown",
   "metadata": {},
   "source": [
    "## LEQ with intercept"
   ]
  },
  {
   "cell_type": "code",
   "execution_count": null,
   "metadata": {},
   "outputs": [],
   "source": [
    "flux_unc_leq_intr=pd.read_csv('/home/thakur_21505/lst-retrival-from-fluxnet-data/output/salib_AS_leq_inter.csv')"
   ]
  },
  {
   "cell_type": "code",
   "execution_count": null,
   "metadata": {},
   "outputs": [],
   "source": [
    "flux_unc_leq_intr"
   ]
  },
  {
   "cell_type": "code",
   "execution_count": null,
   "metadata": {},
   "outputs": [],
   "source": [
    "dt_unc_int=flux_unc_leq_intr.eps.copy()\n",
    "opteps_1_int=np.array(dt_unc_int[0:1000])\n",
    "opteps_2_int=np.array(dt_unc_int[1000:2000])\n",
    "opteps_3_int=np.array(dt_unc_int[2000:3000])\n",
    "opteps_4_int=np.array(dt_unc_int[3000:4000])\n",
    "opteps_5_int=np.array(dt_unc_int[4000:5000])\n",
    "opteps_6_int=np.array(dt_unc_int[5000:6000])\n",
    "opteps_7_int=np.array(dt_unc_int[6000:7000])\n",
    "opteps_8_int=np.array(dt_unc_int[7000:8000])\n",
    "opteps_9_int=np.array(dt_unc_int[8000:9000])\n",
    "opteps_10_int=np.array(dt_unc_int[9000:10000])\n",
    "opteps_11_int=np.array(dt_unc_int[10000:11000])\n",
    "opteps_12_int=np.array(dt_unc_int[11000:12000])\n",
    "\n",
    "\n"
   ]
  },
  {
   "cell_type": "code",
   "execution_count": null,
   "metadata": {},
   "outputs": [],
   "source": [
    "opteps_1_int.max()"
   ]
  },
  {
   "cell_type": "code",
   "execution_count": null,
   "metadata": {},
   "outputs": [],
   "source": [
    "plt.plot(flux_unc_leq_intr.eps)"
   ]
  },
  {
   "cell_type": "markdown",
   "metadata": {},
   "source": [
    "## three boxes:"
   ]
  },
  {
   "cell_type": "code",
   "execution_count": null,
   "metadata": {},
   "outputs": [],
   "source": [
    "plt.boxplot(opteps_12_int.flatten())"
   ]
  },
  {
   "cell_type": "code",
   "execution_count": null,
   "metadata": {},
   "outputs": [],
   "source": [
    "\n",
    "box=plt.boxplot([opteps_1.flatten(),opteps_2.flatten(),opteps_3.flatten(),opteps_4.flatten(),opteps_5.flatten(),\n",
    "                 opteps_6.flatten(),opteps_7.flatten(),opteps_8.flatten(),opteps_9.flatten(),\n",
    "                 opteps_10.flatten(),opteps_11.flatten(),opteps_12.flatten()],1,widths=0.2,patch_artist=True,\n",
    "                positions=np.arange(0.5,12.50))\n",
    "### box plot using short equation\n",
    "box1=plt.boxplot([opteps1_1.flatten(),opteps1_2.flatten(),opteps1_3.flatten(),opteps1_4.flatten(),opteps1_5.flatten(),\n",
    "                  opteps1_6.flatten(),opteps1_7.flatten(),opteps1_8.flatten(),opteps1_9.flatten(),opteps1_10.flatten(),\n",
    "                  opteps1_11.flatten(),opteps1_12.flatten()]\n",
    "                 ,1,widths=0.2,patch_artist=True,\n",
    "                 positions=np.arange(0.75,12.75))\n",
    "\n",
    "box2=plt.boxplot([opteps_1_int.flatten(),opteps_2_int.flatten(),opteps_3_int.flatten(),opteps_4_int.flatten(),opteps_5_int.flatten(),\n",
    "                 opteps_6_int.flatten(),opteps_7_int.flatten(),opteps_8_int.flatten(),opteps_9_int.flatten(),\n",
    "                 opteps_10_int.flatten(),opteps_11_int.flatten(),opteps_12_int.flatten()],1,widths=0.2,patch_artist=True,\n",
    "                positions=np.arange(1,13))\n"
   ]
  },
  {
   "cell_type": "code",
   "execution_count": null,
   "metadata": {},
   "outputs": [],
   "source": [
    "fig, ax1 = plt.subplots(figsize=(14, 8))\n",
    "fig.canvas.set_window_title('temp bias boxplot')\n",
    "plt.subplots_adjust(left=0.075, right=0.95, top=0.9, bottom=0.25)\n",
    "\n",
    "\n",
    "box=plt.boxplot([opteps_1.flatten(),opteps_2.flatten(),opteps_3.flatten(),opteps_4.flatten(),opteps_5.flatten(),\n",
    "                 opteps_6.flatten(),opteps_7.flatten(),opteps_8.flatten(),opteps_9.flatten(),\n",
    "                 opteps_10.flatten(),opteps_11.flatten(),opteps_12.flatten()],1,widths=0.2,patch_artist=True,\n",
    "                positions=np.arange(0.5,12.50))\n",
    "### box plot using short equation\n",
    "box1=plt.boxplot([opteps1_1.flatten(),opteps1_2.flatten(),opteps1_3.flatten(),opteps1_4.flatten(),opteps1_5.flatten(),\n",
    "                  opteps1_6.flatten(),opteps1_7.flatten(),opteps1_8.flatten(),opteps1_9.flatten(),opteps1_10.flatten(),\n",
    "                  opteps1_11.flatten(),opteps1_12.flatten()]\n",
    "                 ,1,widths=0.2,patch_artist=True,\n",
    "                 positions=np.arange(0.75,12.75))\n",
    "\n",
    "box2=plt.boxplot([opteps_1_int.flatten(),opteps_2_int.flatten(),opteps_3_int.flatten(),opteps_4_int.flatten(),opteps_5_int.flatten(),\n",
    "                 opteps_6_int.flatten(),opteps_7_int.flatten(),opteps_8_int.flatten(),opteps_9_int.flatten(),\n",
    "                 opteps_10_int.flatten(),opteps_11_int.flatten(),opteps_12_int.flatten()],1,widths=0.2,patch_artist=True,\n",
    "                positions=np.arange(1,13))\n",
    "               \n",
    "               \n",
    "               \n",
    "               \n",
    "plt.setp(box[\"boxes\"], facecolor='blue')\n",
    "plt.setp(box1[\"boxes\"], facecolor='black')\n",
    "plt.setp(box2[\"boxes\"], facecolor='green')\n",
    "\n",
    "#line1,=plt.plot(np.arange(0.5,12.5),list_opt_epsref1, color='r', label='optimum epsilon using Leq',zorder=10)\n",
    "#line2,=plt.plot(np.arange(0.75,12.75),list_opt_epsign1, color='g', label='optimum epsilon using Seq',zorder=10)\n",
    "\n",
    "plt.legend([box[\"boxes\"][0],box1[\"boxes\"][0],box2[\"boxes\"][0]],[\"Leq\", \"Seq\",\"Leq with intercept\"],\n",
    "           loc=\"lower right\")    \n",
    "\n",
    "ax1.yaxis.grid(True, linestyle='-', which='major', color='lightgrey',alpha=0.5)\n",
    "\n",
    "ax1.grid(axis='y')\n",
    "ax1.set_axisbelow(True)\n",
    "ax1.set_ylabel('$\\epsilon$', ha='center',fontsize=20)\n",
    "ax1.set_xlabel('Month', ha='center',fontsize=20)\n",
    "numBoxes=12\n",
    "medians=list(range(numBoxes))\n",
    "medians1=list(range(numBoxes))\n",
    "medians2=list(range(numBoxes))\n",
    "for i in range(numBoxes):\n",
    "    med = box['medians'][i]    #short equation\n",
    "    med1 = box1['medians'][i]   #long equation\n",
    "    med2= box2['medians'][i]   #long equation wit intercept\n",
    "    medianX = []\n",
    "    medianY = []\n",
    "    medianX1 = []\n",
    "    medianY1 = []\n",
    "    medianX2 = []\n",
    "    medianY2 = []\n",
    "    for j in range(2):\n",
    "        medianX.append(med.get_xdata()[j])\n",
    "        medianY.append(med.get_ydata()[j])\n",
    "        medianX1.append(med1.get_xdata()[j])\n",
    "        medianY1.append(med1.get_ydata()[j])\n",
    "        medianX2.append(med2.get_xdata()[j])\n",
    "        medianY2.append(med2.get_ydata()[j])\n",
    "        plt.plot(medianX, medianY)\n",
    "        plt.plot(medianX1, medianY1)\n",
    "        plt.plot(medianX2, medianY2)\n",
    "        medians[i] = medianY[0]\n",
    "        medians1[i] = medianY1[0]\n",
    "        medians2[i] = medianY2[0]\n",
    "        \n",
    "\n",
    "ax1.set_xlim(0, numBoxes)\n",
    "top = 1.01\n",
    "bottom = 0.58\n",
    "ax1.set_ylim(bottom, top)\n",
    "ax1.yaxis.set_tick_params(labelsize=14)\n",
    "\n",
    "plt.xticks(np.arange(0.625,13.625), (\"Jan\",\"Feb\",\"Mar\",\"Apr\",\"May\",\"Jun\",\"Jul\",\"Aug\",\"Sep\",\"Oct\",\"Nov\",\"Dec\"))\n",
    "\n",
    "pos = np.arange(0.625,13.625)#np.arange(numBoxes) + 1\n",
    "upperLabels = [str(np.round(s, 2)) for s in medians]\n",
    "upperLabels1 = [str(np.round(s1, 2)) for s1 in medians1]\n",
    "upperLabels2 = [str(np.round(s2, 2)) for s2 in medians2]\n",
    "weights = ['bold', 'semibold']\n",
    "for tick, label in zip(range(numBoxes), ax1.get_xticklabels()):\n",
    "    k = tick % 2\n",
    "    ax1.text(pos[tick], top +0.025, upperLabels[tick],\n",
    "             horizontalalignment='center', size='x-large', weight=weights[k],\n",
    "             color='b')\n",
    "    ax1.text(pos[tick], top + 0.045, upperLabels1[tick],\n",
    "             horizontalalignment='center', size='x-large', weight=weights[k],\n",
    "             color='black')\n",
    "    ax1.text(pos[tick], top + 0.005, upperLabels2[tick],\n",
    "             horizontalalignment='center', size='x-large', weight=weights[k],\n",
    "             color='green')\n",
    "plt.grid(axis='y')\n",
    "fname = 'opteps_boxplt_threebox'\n",
    "#plt.plot(np.arange(0.25,5.25),y2,'*')\n",
    "plt.tight_layout()\n",
    "plt.savefig(plt_path+fname+'.png',facecolor='w', edgecolor='w', orientation='portrait')\n",
    "plt.show()\n",
    "\n",
    "\n",
    "\n",
    "        \n",
    "        \n",
    "        \n",
    "          \n",
    "\n",
    "\n",
    "        \n",
    "        "
   ]
  },
  {
   "cell_type": "markdown",
   "metadata": {},
   "source": [
    "**Considering intercept reduces the uncertainity in emissivity**"
   ]
  },
  {
   "cell_type": "markdown",
   "metadata": {},
   "source": [
    "## 2017/10 opt eps is extreme end of boxplot ?"
   ]
  },
  {
   "cell_type": "code",
   "execution_count": null,
   "metadata": {},
   "outputs": [],
   "source": [
    "x=flux_unc_seq.unc_flu[7200:8000]\n",
    "y=flux_unc_seq.eps[7200:8000]\n",
    "plt.plot(x,y,'.')\n",
    "plt.xlabel('$R_{lup}$', ha='center',fontsize=20)\n",
    "plt.ylabel('$\\epsilon$', labelpad=10, va='center',fontsize=20)\n",
    "plottitle = ('10/2017,flu error range with emissivity obtained using error+ measurement (seq)')\n",
    "plt.title(plottitle)\n",
    "plt.grid()\n",
    "plt.show()"
   ]
  },
  {
   "cell_type": "code",
   "execution_count": null,
   "metadata": {},
   "outputs": [],
   "source": [
    "df_all=HWframe.copy()\n",
    "df_err=df_err_seq.copy()\n",
    "dt_uncconst_seq=[]\n",
    "hr_range=np.arange(8,17,1)\n",
    "epsilon1=0.972\n",
    "\n",
    "jj=0  \n",
    "#for ii in range(9):\n",
    "    df = df_all[(df_all.index.year == 2017)&(df_all.index.month == 10) \n",
    "            & (df_all.Fn > 25) & (df_all.Ws > 2)&(df_all.Fld_QCFlag==00)&(df_all.Flu_QCFlag==00)\n",
    "            &(df_all.Ta_QCFlag==00)&(df_all.Fh_QCFlag==00)]\n",
    "    # &(df_all.index.day == 15)&(df_all.index.hour == hr_range[ii])&(df_all.index.minute == 0)\n",
    "    \n",
    "   \n",
    "    for j in range(800) :\n",
    "        tf_T_s1 = theano_function([R_lout], [eq_Ts_Rlout.rhs.subs(epsilon, epsilon1).\n",
    "                                                          subs(Variable.__defaults__)], dims={R_lout:1})\n",
    "                                        \n",
    "        \n",
    "        \n",
    "        list_H=df.Fh+df_err.unc_h[k1+j]\n",
    "        df = df.assign(H=list_H)\n",
    "        #Fld=df.Fld+unc_Fld\n",
    "        Flu=df.Flu+df_err.unc_flu[k1+j]\n",
    "        list_T_s1 = tf_T_s1(Flu)\n",
    "        \n",
    "        df = df.assign(T_s1=list_T_s1)\n",
    "        list_DT1 = df.T_s1 - (df.T_a+df_err.unc_ta[k1+j])\n",
    "        df = df.assign(DT1=list_DT1)        \n",
    "        dt_uncconst_seq.append(list_DT1)\n",
    "    "
   ]
  },
  {
   "cell_type": "markdown",
   "metadata": {},
   "source": [
    "### epsilon ucertainity for 1 year:"
   ]
  },
  {
   "cell_type": "code",
   "execution_count": null,
   "metadata": {},
   "outputs": [],
   "source": [
    "df=opteps_flux_error.copy()\n",
    "max_eps=[]\n",
    "min_eps=[]\n",
    "mean_eps=[]\n",
    "for i in np.arange(1,13):\n",
    "    df_plot=df[(df.month == i)]\n",
    "    max_eps.append(max(df_plot.eps))\n",
    "    min_eps.append(min(df_plot.eps))\n",
    "    mean_eps.append(df_plot.eps.mean())\n",
    "fig=plt.figure(figsize=(12,8))   \n",
    "plt.plot(np.arange(1,13),list_opt_epsign1, color='red')\n",
    "plt.plot(np.arange(1,13),max_eps, color='green')\n",
    "plt.plot(np.arange(1,13), min_eps, color='blue')\n",
    "plt.plot(np.arange(1,13), mean_eps,'*', color='k')\n",
    "plt.legend(['opt epsilon','maximum epsilon', 'minimum epsilon', 'mean epsilon'])\n",
    "plt.xticks(np.arange(1,13))\n",
    "plt.xlabel(r'$Months$', ha='center',fontsize=20)\n",
    "plt.ylabel(r'$\\epsilon$', ha='center',fontsize=20)\n",
    "#plt.title('$\\epsilon$={0}'.format(np.round(epsilon1,decimals=2)))\n",
    "plottitle = 'Alice spring uncertainity in emissivity using simplified equation for year 2017'\n",
    "fname = 'as_seq_salib{0}'.format(str(np.round(2017)))\n",
    "plt.title(plottitle)\n",
    "plt.grid()\n",
    "plt.tight_layout()\n",
    "plt.savefig(plt_path+fname+'.png',bbox_inches = 'tight',facecolor='w', edgecolor='w', orientation='portrait')\n",
    "plt.show()\n",
    "#plt.grid()\n",
    "\n",
    "    \n",
    "    \n"
   ]
  },
  {
   "cell_type": "code",
   "execution_count": null,
   "metadata": {},
   "outputs": [],
   "source": [
    "blah"
   ]
  },
  {
   "cell_type": "markdown",
   "metadata": {},
   "source": [
    "## sensivity indices:"
   ]
  },
  {
   "cell_type": "code",
   "execution_count": null,
   "metadata": {},
   "outputs": [],
   "source": [
    "file"
   ]
  },
  {
   "cell_type": "code",
   "execution_count": null,
   "metadata": {},
   "outputs": [],
   "source": [
    "import json"
   ]
  },
  {
   "cell_type": "markdown",
   "metadata": {},
   "source": [
    "### opts eps 3years:"
   ]
  },
  {
   "cell_type": "markdown",
   "metadata": {},
   "source": [
    "## opt eps: Ignoring reflected"
   ]
  },
  {
   "cell_type": "code",
   "execution_count": null,
   "metadata": {},
   "outputs": [],
   "source": [
    "opteps_As = pd.DataFrame(columns=[\"RMSE\", \"m\",\"eps\",\"R2\"])\n",
    "def opteps_OLS_loop_1 (years, df_all,mnth,xcol = 'DT1', ycol = 'Fh',\n",
    "                       epsmin=0.7, epsmax=0.999, epsincr=0.002, eqdigits=3):\n",
    "    \n",
    "    \n",
    "    k=0\n",
    "    epsilon1=np.arange(epsmin, epsmax, epsincr).tolist() # using array of the epsilon values\n",
    "    df = df_all[(df_all.index.year == years)& (df_all.index.month == mnth)  & (df_all.Fn > 25) & (df_all.Ws > 2)\n",
    "         &(df_all.Fld_QCFlag==00)&(df_all.Flu_QCFlag==00)\n",
    "                &(df_all.Ta_QCFlag==00)&(df_all.Fh_QCFlag==00)]\n",
    "    \n",
    "    for j in range(len(epsilon1)) :\n",
    "        tf_T_s1 = theano_function([R_lout], [eq_Ts_Rlout.rhs.subs(epsilon, epsilon1[j]).\n",
    "                                                          subs(Variable.__defaults__)], dims={R_lout:1})\n",
    "        \n",
    "        tf_T_s12 = theano_function([R_lout], [eq_Ts_Rlout.rhs.subs(epsilon, epsilon1[j]).\n",
    "                                                          subs(Variable.__defaults__)], dims={R_lout:1})\n",
    "        list_T_s1 = tf_T_s1(df.Flu)\n",
    "        df = df.assign(T_s1=list_T_s1)\n",
    "        ##########\n",
    "        #list_T_s12 = tf_T_s12(df12.Flu)\n",
    "        #df12 = df12.assign(T_s12=list_T_s12)\n",
    "       # list_H = df.Fh\n",
    "        list_DT1 = df.T_s1 - df.T_a\n",
    "        df = df.assign(DT1=(df.T_s1 - df.T_a))\n",
    "        \n",
    "        ###########\n",
    "        df1 = df.dropna(subset=[xcol, ycol])# for removing nan values\n",
    "        xdata1 = df1[xcol]\n",
    "        ydata1 = df1[ycol]\n",
    "        x=np.array(xdata1)\n",
    "        y=np.array(ydata1)\n",
    "        x=x.reshape(-1,1)\n",
    "        y=y.reshape(-1,1)\n",
    "        reg=LinearRegression(fit_intercept=False).fit(x, y) ## 2d x\n",
    "        m=float(reg.coef_)\n",
    "        y_pred = m*x\n",
    "        N=len(y)\n",
    "        MSE= mean_squared_error(y,y_pred)\n",
    "        RMSE=float(sqrt(MSE))\n",
    "        r2=r2_score(y,y_pred)\n",
    "        if r2 > 0.5:\n",
    "                 opteps_As.loc[k]=[RMSE, m, epsilon1[j], r2]\n",
    "        else:\n",
    "            opteps_As.loc[k]=[np.nan, np.nan, 1, r2]   \n",
    "            \n",
    "        k=k+1\n",
    "        \n",
    "    \n",
    "    df_eps= opteps_As.copy()\n",
    "    \n",
    "    df_eps.sort_values(by=['RMSE'],ascending=True,inplace=True)\n",
    "    \n",
    "    return df_eps.eps.iloc[0]\n",
    "        \n",
    "       "
   ]
  },
  {
   "cell_type": "code",
   "execution_count": null,
   "metadata": {},
   "outputs": [],
   "source": [
    "opteps_OLS_loop_1 (2017,HWframe,10)"
   ]
  },
  {
   "cell_type": "code",
   "execution_count": null,
   "metadata": {},
   "outputs": [],
   "source": [
    "def opteps_OLS_months (years, df_all,mnth,epsilon1,xcol = 'DT1', ycol = 'Fh' , eqdigits=3):\n",
    "    \"\"\"Plot a panel per month with H and delT.\"\"\"\n",
    "    \n",
    "    \n",
    "     # using array of the epsilon values\n",
    "    df = df_all[(df_all.index.year == years)& (df_all.index.month == mnth)&(df_all.Fn > 25) & (df_all.Ws > 2)\n",
    "         &(df_all.Fld_QCFlag==00)&(df_all.Flu_QCFlag==00)\n",
    "                &(df_all.Ta_QCFlag==00)&(df_all.Fh_QCFlag==00)]\n",
    "    \n",
    "    ####\n",
    "    df12 = df_all[(df_all.index.year == years) & (df_all.index.month == mnth) & ((df_all.Fn <25) | (df_all.Ws < 2))]\n",
    "    \n",
    "    tf_T_s1 = theano_function([R_lout], [eq_Ts_Rlout.rhs.subs(epsilon, epsilon1).\n",
    "                                                          subs(Variable.__defaults__)], dims={R_lout:1})\n",
    "        \n",
    "    tf_T_s12 = theano_function([R_lout], [eq_Ts_Rlout.rhs.subs(epsilon, epsilon1).\n",
    "                                                          subs(Variable.__defaults__)], dims={R_lout:1})\n",
    "    list_T_s1 = tf_T_s1(df.Flu)\n",
    "    df = df.assign(T_s1=list_T_s1)\n",
    "        ##########\n",
    "    list_T_s12 = tf_T_s12(df12.Flu)\n",
    "    df12 = df12.assign(T_s12=list_T_s12)\n",
    "    list_H = df.Fh\n",
    "    list_DT1 = df.T_s1 - df.T_a\n",
    "    df = df.assign(DT1=(df.T_s1 - df.T_a))\n",
    "    list_DT12 = df12.T_s12 - df12.T_a\n",
    "    df12 = df12.assign(DT12=(df12.T_s12 - df12.T_a))\n",
    "        ###########\n",
    "    df1 = df.dropna(subset=[xcol, ycol])# for removing nan values\n",
    "    xdata1 = df1[xcol]\n",
    "    ydata1 = df1[ycol]\n",
    "    x=np.array(xdata1)\n",
    "    y=np.array(ydata1)\n",
    "    x=x.reshape(-1,1)\n",
    "    y=y.reshape(-1,1)\n",
    "    reg=LinearRegression(fit_intercept=False).fit(x, y) ## 2d x\n",
    "    m=float(reg.coef_)\n",
    "    y_pred = m*x\n",
    "    \n",
    "    N=len(y)\n",
    "    MSE= mean_squared_error(y,y_pred)\n",
    "    RMSE=float(sqrt(MSE))\n",
    "    print(RMSE)\n",
    "    r2=r2_score(y,y_pred)\n",
    "    legendtext = 'y=m x \\nm={0}\\n'r'R$^2$={1}''\\nRMSE={2}\\nN={3}'.format(str(np.round(m,decimals=eqdigits)),\n",
    "                                                                 str(np.round(r2,decimals=eqdigits)),\n",
    "                                                                 str(np.round(RMSE, decimals=eqdigits)),\n",
    "                                                                 str(np.round(N, decimals=eqdigits)))\n",
    "\n",
    "        \n",
    "       \n",
    "    plt.plot(x,y,\"+\",label='_nolegend_')#.format(list_months))#.format(list_months))\n",
    "    \n",
    "    plt.xlabel(r'$T_{seq} - T_{a} (K)$', ha='center',fontsize=20)\n",
    "    plt.ylabel(r'$H(W m^{-2})$', labelpad=10, va='center',fontsize=20)\n",
    "    plt.title('Alice Spring,{0}, $\\epsilon$={1}'.format(df.index[0].date().strftime('%Y/%m'), \n",
    "                                          str(np.round(epsilon1,decimals=3))))\n",
    "        \n",
    "    \n",
    "        \n",
    "    plt.xticks([-5,0,5,10,15])\n",
    "    plt.xlim(0, 15)\n",
    "    plt.ylim(0, 500)\n",
    "    plt.plot(x,y_pred, color='red',label=legendtext)# predicted\n",
    "    plt.legend(loc=\"upper left\")\n",
    "    plt.grid()\n",
    "    plt.show()\n",
    "        \n",
    "        "
   ]
  },
  {
   "cell_type": "code",
   "execution_count": null,
   "metadata": {},
   "outputs": [],
   "source": [
    "opteps_OLS_months( 2016,HWframe,6,0.970)"
   ]
  },
  {
   "cell_type": "code",
   "execution_count": null,
   "metadata": {},
   "outputs": [],
   "source": [
    "opteps_OLS_months( 2016,HWframe,6,0.974)"
   ]
  },
  {
   "cell_type": "markdown",
   "metadata": {},
   "source": [
    "yr=2016\n",
    "mnth=0\n",
    "list_opt_epsign=[]\n",
    "for i in range(12):\n",
    "    #opt_eps_RMSE_brook = pd.DataFrame(columns=[\"RMSE\", \"m\",\"eps\",\"R2\"])\n",
    "    mnth=i+1\n",
    "    opteps_As = pd.DataFrame(columns=[\"RMSE\", \"m\",\"eps\",\"R2\"])\n",
    "    opt_eps=  opteps_OLS_loop_1(yr, HWframe,mnth)\n",
    "    \n",
    "    if opt_eps<1:\n",
    "        list_opt_epsign.append(opt_eps)\n",
    "        opteps_OLS_months(yr, HWframe,mnth,opt_eps)\n",
    "       \n",
    "    else:\n",
    "        list_opt_epsign.append(1)\n",
    "    \n",
    "const=np.mean(list_opt_epsign)\n",
    "plt.plot([1,2,3,4,5,6,7,8,9,10,11,12],list_opt_epsign,color= 'orange')\n",
    "plt.axhspan(const-0.0001,const+0.0001,color='m',alpha=0.9, lw=1.2,ls='dotted')\n",
    "plt.text(8,0.975, \"avg eps =\" + str(np.round(const,decimals=eqdigits)))    \n",
    "\n",
    "plt.xlabel('Month', ha='center',fontsize=20)\n",
    "plt.ylabel('Emissivity', labelpad=10, va='center',fontsize=20)\n",
    "plottitle = r'${0},Alice spring,Seq$(H-30,LW+5)'.format(str(np.round(yr)))\n",
    "fname = 'AS_se_{0}'.format(str(np.round(yr)))\n",
    "plt.title(plottitle)\n",
    "plt.grid()\n",
    "plt.tight_layout()\n",
    "plt.savefig(plt_path+fname+'.png',facecolor='w', edgecolor='w', orientation='portrait')\n",
    "plt.show()"
   ]
  },
  {
   "cell_type": "code",
   "execution_count": null,
   "metadata": {},
   "outputs": [],
   "source": [
    "yr=2017\n",
    "mnth=0\n",
    "list_opt_epsign1=[]\n",
    "for i in range(12):\n",
    "    #opt_eps_RMSE_brook = pd.DataFrame(columns=[\"RMSE\", \"m\",\"eps\",\"R2\"])\n",
    "    mnth=i+1\n",
    "    opteps_As = pd.DataFrame(columns=[\"RMSE\", \"m\",\"eps\",\"R2\"])\n",
    "    opt_eps=  opteps_OLS_loop_1(yr, HWframe,mnth)\n",
    "    \n",
    "    if opt_eps<1:\n",
    "        list_opt_epsign1.append(opt_eps)\n",
    "        opteps_OLS_months(yr, HWframe,mnth,opt_eps)\n",
    "       \n",
    "    else:\n",
    "        list_opt_epsign1.append(1)\n",
    "    \n",
    "const=np.mean(list_opt_epsign1)\n",
    "plt.plot([1,2,3,4,5,6,7,8,9,10,11,12],list_opt_epsign1,color= 'orange')\n",
    "plt.axhspan(const-0.0001,const+0.0001,color='m',alpha=0.9, lw=1.2,ls='dotted')\n",
    "plt.text(8,0.975, \"avg eps =\" + str(np.round(const,decimals=eqdigits)))    \n",
    "\n",
    "plt.xlabel('Month', ha='center',fontsize=20)\n",
    "plt.ylabel('Emissivity', labelpad=10, va='center',fontsize=20)\n",
    "plottitle = r'${0},Alice spring,Seq$,(H-30,LW+5)'.format(str(np.round(yr)))\n",
    "fname = 'AS_se_{0}'.format(str(np.round(yr)))\n",
    "plt.title(plottitle)\n",
    "plt.grid()\n",
    "plt.tight_layout()\n",
    "plt.savefig(plt_path+fname+'.png',facecolor='w', edgecolor='w', orientation='portrait')\n",
    "plt.show()"
   ]
  },
  {
   "cell_type": "markdown",
   "metadata": {},
   "source": [
    "##  with opt and with uncertainty"
   ]
  },
  {
   "cell_type": "code",
   "execution_count": null,
   "metadata": {},
   "outputs": [],
   "source": [
    "fig, ax1 = plt.subplots(figsize=(14, 8))\n",
    "fig.canvas.set_window_title('temp bias boxplot')\n",
    "plt.subplots_adjust(left=0.075, right=0.95, top=0.9, bottom=0.25)\n",
    "\n",
    "\n",
    "box=plt.boxplot([opteps_1.flatten(),opteps_2.flatten(),opteps_3.flatten(),opteps_4.flatten(),opteps_5.flatten(),\n",
    "                 opteps_6.flatten(),opteps_7.flatten(),opteps_8.flatten(),opteps_9.flatten(),\n",
    "                 opteps_10.flatten(),opteps_11.flatten(),opteps_12.flatten()],1,patch_artist=True,\n",
    "                positions=np.arange(0.75,12.75))\n",
    "### box plot using short equation\n",
    "box1=plt.boxplot([opteps1_1.flatten(),opteps1_2.flatten(),opteps1_3.flatten(),opteps1_4.flatten(),opteps1_5.flatten(),\n",
    "                  opteps1_6.flatten(),opteps1_7.flatten(),opteps1_8.flatten(),opteps1_9.flatten(),opteps1_10.flatten(),\n",
    "                  opteps1_11.flatten(),opteps1_12.flatten()]\n",
    "                 ,1,patch_artist=True,\n",
    "                 positions=np.arange(1.25,13.25))\n",
    "               \n",
    "               \n",
    "               \n",
    "               \n",
    "plt.setp(box[\"boxes\"], facecolor='blue')\n",
    "plt.setp(box1[\"boxes\"], facecolor='orange')\n",
    "plt.legend([box[\"boxes\"][0],box1[\"boxes\"][0]],[\"opt $\\epsilon$ range using leq\", \"opt $\\epsilon$ range using seq\"],\n",
    "           loc=\"lower right\") \n",
    "\n",
    "ax1.yaxis.grid(True, linestyle='-', which='major', color='lightgrey',alpha=0.5)\n",
    "\n",
    "\n",
    "ax1.set_axisbelow(True)\n",
    "ax1.set_ylabel(r'$\\epsilon$', ha='center',fontsize=20)\n",
    "\n",
    "numBoxes=12\n",
    "medians=list(range(numBoxes))\n",
    "medians1=list(range(numBoxes))\n",
    "for i in range(numBoxes):\n",
    "    med = box['medians'][i]\n",
    "    med1 = box1['medians'][i]\n",
    "    medianX = []\n",
    "    medianY = []\n",
    "    medianX1 = []\n",
    "    medianY1 = []\n",
    "    for j in range(2):\n",
    "        medianX.append(med.get_xdata()[j])\n",
    "        medianY.append(med.get_ydata()[j])\n",
    "        medianX1.append(med1.get_xdata()[j])\n",
    "        medianY1.append(med1.get_ydata()[j])\n",
    "        plt.plot(medianX, medianY)\n",
    "        plt.plot(medianX1, medianY1)\n",
    "        medians[i] = medianY[0]\n",
    "        medians1[i] = medianY1[0]\n",
    "        #medians[i] = medianx[0]\n",
    "# Set the axes ranges and axes labels\n",
    "#eps=[0.985,0.983,0.974,0.985,0.984]#,0.974,0.985,0.985,0.983,0.974]\n",
    "ax1.set_xlim(0, numBoxes + 1)\n",
    "top = 1\n",
    "bottom = 0.6\n",
    "ax1.set_ylim(bottom, top)\n",
    "ax1.yaxis.set_tick_params(labelsize=14)\n",
    "xtickNames = plt.setp(ax1, xticklabels=(\"9\",\n",
    "                                        \"11\",\"12\",\"14\",\"15\"))\n",
    "plt.setp(xtickNames, rotation=45, fontsize=12, fontweight='bold')\n",
    "\n",
    "\n",
    "pos = np.arange(numBoxes) + 1\n",
    "upperLabels = [str(np.round(s, 2)) for s in medians]\n",
    "upperLabels1 = [str(np.round(s1, 2)) for s1 in medians1]\n",
    "weights = ['bold', 'semibold']\n",
    "for tick, label in zip(range(numBoxes), ax1.get_xticklabels()):\n",
    "    k = tick % 2\n",
    "    ax1.text(pos[tick], top - 0.4, upperLabels[tick],\n",
    "             horizontalalignment='center', size='x-large', weight=weights[k],\n",
    "             color='b')\n",
    "    ax1.text(pos[tick], top - 0.35, upperLabels1[tick],\n",
    "             horizontalalignment='center', size='x-large', weight=weights[k],\n",
    "             color='orange')\n",
    "    #ax1.text(pos[tick], bottom + 4, eps[tick],\n",
    "            # horizontalalignment='center', size='x-large', weight=weights[k],\n",
    "             #color='k')\n",
    "\n",
    "fname = 'opteps_boxplt1'\n",
    "plt.plot(np.arange(1,13),list_opt_epsref1, color='red')\n",
    "plt.plot(np.arange(1,13),list_opt_epsign1, color='green')\n",
    "plt.savefig(plt_path+fname+'.png',facecolor='w', edgecolor='w', orientation='portrait')\n",
    "plt.show()\n",
    "#plt.plot(np.arange(0.75,5.75),y2,'*')\n",
    "plt.show()\n",
    "\n",
    "\n",
    "\n",
    "        \n",
    "        "
   ]
  },
  {
   "cell_type": "code",
   "execution_count": null,
   "metadata": {},
   "outputs": [],
   "source": [
    "yr=2018\n",
    "mnth=0\n",
    "list_opt_epsign2=[]\n",
    "for i in range(12):\n",
    "    #opt_eps_RMSE_brook = pd.DataFrame(columns=[\"RMSE\", \"m\",\"eps\",\"R2\"])\n",
    "    mnth=i+1\n",
    "    opteps_As = pd.DataFrame(columns=[\"RMSE\", \"m\",\"eps\",\"R2\"])\n",
    "    opt_eps=  opteps_OLS_loop_1(yr, HWframe,mnth)\n",
    "    \n",
    "    if opt_eps<1:\n",
    "        list_opt_epsign2.append(opt_eps)\n",
    "        opteps_OLS_months(yr, HWframe,mnth,opt_eps)\n",
    "       \n",
    "    else:\n",
    "        list_opt_epsign2.append(1)\n",
    "    \n",
    "const=np.mean(list_opt_epsign2)\n",
    "plt.plot([1,2,3,4,5,6,7,8,9,10,11,12],list_opt_epsign2,color= 'orange')\n",
    "plt.axhspan(const-0.0001,const+0.0001,color='m',alpha=0.9, lw=1.2,ls='dotted')\n",
    "plt.text(8,0.975, \"avg eps =\" + str(np.round(const,decimals=eqdigits)))    \n",
    "\n",
    "plt.xlabel('Month', ha='center',fontsize=20)\n",
    "plt.ylabel('Emissivity', labelpad=10, va='center',fontsize=20)\n",
    "plottitle = r'${0},Alice spring,Seq(H-30,LW +5)$'.format(str(np.round(yr)))\n",
    "fname = 'AS_se_{0}'.format(str(np.round(yr)))\n",
    "plt.title(plottitle)\n",
    "plt.grid()\n",
    "plt.tight_layout()\n",
    "plt.savefig(plt_path+fname+'.png',facecolor='w', edgecolor='w', orientation='portrait')\n",
    "plt.show()"
   ]
  },
  {
   "cell_type": "code",
   "execution_count": null,
   "metadata": {},
   "outputs": [],
   "source": [
    "opteps_ign_2016=list_opt_epsign.copy()\n",
    "opteps_ign_2017=list_opt_epsign1.copy()\n",
    "opteps_ign_2018=list_opt_epsign2.copy()\n",
    "plt.plot([1,2,3,4,5,6,7,8,9,10,11,12],opteps_ign_2016,color= 'orange', label='2016')\n",
    "plt.plot([1,2,3,4,5,6,7,8,9,10,11,12],opteps_ign_2017,color= 'red',label='2017')\n",
    "plt.plot([1,2,3,4,5,6,7,8,9,10,11,12],opteps_ign_2018,color= 'blue',label='2018')\n",
    "\n",
    "plt.xlabel('Month', ha='center',fontsize=20)\n",
    "\n",
    "plt.ylabel('Emissivity', labelpad=10, va='center',fontsize=20)\n",
    "plt.legend(['2016','2017','2018'])\n",
    "plottitle = r'Alice Spring,$Seq$'\n",
    "fname = 'AS_seq_{0}'.format(str(np.round(yr)))\n",
    "plt.title(plottitle)\n",
    "plt.grid()\n",
    "plt.tight_layout()\n",
    "plt.savefig(plt_path+fname+'.png',facecolor='w', edgecolor='w', orientation='portrait')\n"
   ]
  },
  {
   "cell_type": "code",
   "execution_count": null,
   "metadata": {},
   "outputs": [],
   "source": []
  },
  {
   "cell_type": "code",
   "execution_count": null,
   "metadata": {},
   "outputs": [],
   "source": []
  },
  {
   "cell_type": "code",
   "execution_count": null,
   "metadata": {},
   "outputs": [],
   "source": []
  }
 ],
 "metadata": {
  "kernelspec": {
   "display_name": "Python 3",
   "language": "python",
   "name": "python3"
  },
  "language_info": {
   "codemirror_mode": {
    "name": "ipython",
    "version": 3
   },
   "file_extension": ".py",
   "mimetype": "text/x-python",
   "name": "python",
   "nbconvert_exporter": "python",
   "pygments_lexer": "ipython3",
   "version": "3.6.10"
  },
  "toc": {
   "base_numbering": 1,
   "nav_menu": {},
   "number_sections": true,
   "sideBar": true,
   "skip_h1_title": false,
   "title_cell": "Table of Contents",
   "title_sidebar": "Contents",
   "toc_cell": false,
   "toc_position": {},
   "toc_section_display": true,
   "toc_window_display": true
  },
  "varInspector": {
   "cols": {
    "lenName": 16,
    "lenType": 16,
    "lenVar": 40
   },
   "kernels_config": {
    "python": {
     "delete_cmd_postfix": "",
     "delete_cmd_prefix": "del ",
     "library": "var_list.py",
     "varRefreshCmd": "print(var_dic_list())"
    },
    "r": {
     "delete_cmd_postfix": ") ",
     "delete_cmd_prefix": "rm(",
     "library": "var_list.r",
     "varRefreshCmd": "cat(var_dic_list()) "
    }
   },
   "types_to_exclude": [
    "module",
    "function",
    "builtin_function_or_method",
    "instance",
    "_Feature"
   ],
   "window_display": false
  }
 },
 "nbformat": 4,
 "nbformat_minor": 2
}
